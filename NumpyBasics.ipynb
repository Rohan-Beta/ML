{
 "cells": [
  {
   "cell_type": "code",
   "execution_count": 1,
   "id": "4d830bb3",
   "metadata": {},
   "outputs": [],
   "source": [
    "import numpy as np"
   ]
  },
  {
   "cell_type": "code",
   "execution_count": 2,
   "id": "ca00f2a7",
   "metadata": {},
   "outputs": [],
   "source": [
    "arr = np.arange(1000000)"
   ]
  },
  {
   "cell_type": "code",
   "execution_count": 3,
   "id": "df0d9a07",
   "metadata": {},
   "outputs": [],
   "source": [
    "pylist = list(range(1000000))"
   ]
  },
  {
   "cell_type": "code",
   "execution_count": 4,
   "id": "2b4a48c3",
   "metadata": {},
   "outputs": [
    {
     "name": "stdout",
     "output_type": "stream",
     "text": [
      "CPU times: total: 281 ms\n",
      "Wall time: 590 ms\n"
     ]
    }
   ],
   "source": [
    "%time for item in range(10): [item * 3 for item in pylist] # for list"
   ]
  },
  {
   "cell_type": "code",
   "execution_count": 5,
   "id": "efca3e67",
   "metadata": {},
   "outputs": [
    {
     "name": "stdout",
     "output_type": "stream",
     "text": [
      "CPU times: total: 0 ns\n",
      "Wall time: 22.9 ms\n"
     ]
    }
   ],
   "source": [
    "%time for item in range(10): arr = arr*3 # for numpy"
   ]
  },
  {
   "cell_type": "code",
   "execution_count": 6,
   "id": "111a2795",
   "metadata": {},
   "outputs": [],
   "source": [
    "# numpy wall time is less than list wall time\n",
    "# numpy written in C"
   ]
  },
  {
   "cell_type": "code",
   "execution_count": 7,
   "id": "5645e913",
   "metadata": {},
   "outputs": [
    {
     "name": "stdout",
     "output_type": "stream",
     "text": [
      "<class 'numpy.ndarray'>\n"
     ]
    }
   ],
   "source": [
    "print(type(arr))"
   ]
  },
  {
   "cell_type": "code",
   "execution_count": 8,
   "id": "f88a8eda",
   "metadata": {},
   "outputs": [
    {
     "data": {
      "text/plain": [
       "(1000000,)"
      ]
     },
     "execution_count": 8,
     "metadata": {},
     "output_type": "execute_result"
    }
   ],
   "source": [
    "arr.shape"
   ]
  },
  {
   "cell_type": "code",
   "execution_count": 9,
   "id": "4a7acac6",
   "metadata": {},
   "outputs": [
    {
     "name": "stdout",
     "output_type": "stream",
     "text": [
      "[[2 3 4]\n",
      " [1 4 6]]\n"
     ]
    }
   ],
   "source": [
    "arr1 = np.array([[2 , 3 , 4] , [1 , 4 , 6]])\n",
    "print(arr1)"
   ]
  },
  {
   "cell_type": "code",
   "execution_count": 10,
   "id": "45324352",
   "metadata": {},
   "outputs": [
    {
     "data": {
      "text/plain": [
       "(2, 3)"
      ]
     },
     "execution_count": 10,
     "metadata": {},
     "output_type": "execute_result"
    }
   ],
   "source": [
    "arr1.shape "
   ]
  },
  {
   "cell_type": "code",
   "execution_count": 11,
   "id": "331bd7f1",
   "metadata": {},
   "outputs": [
    {
     "data": {
      "text/plain": [
       "dtype('int32')"
      ]
     },
     "execution_count": 11,
     "metadata": {},
     "output_type": "execute_result"
    }
   ],
   "source": [
    "arr1.dtype # array datatype"
   ]
  },
  {
   "cell_type": "code",
   "execution_count": 12,
   "id": "a2fb8c58",
   "metadata": {},
   "outputs": [
    {
     "data": {
      "text/plain": [
       "2"
      ]
     },
     "execution_count": 12,
     "metadata": {},
     "output_type": "execute_result"
    }
   ],
   "source": [
    "arr1.ndim # number of dimension of an array"
   ]
  },
  {
   "cell_type": "code",
   "execution_count": 13,
   "id": "edeeb82e",
   "metadata": {},
   "outputs": [
    {
     "data": {
      "text/plain": [
       "<memory at 0x0000026CA55D5FF0>"
      ]
     },
     "execution_count": 13,
     "metadata": {},
     "output_type": "execute_result"
    }
   ],
   "source": [
    "arr1.data"
   ]
  },
  {
   "cell_type": "code",
   "execution_count": 14,
   "id": "dab55106",
   "metadata": {},
   "outputs": [
    {
     "data": {
      "text/plain": [
       "array([[1., 1., 1.],\n",
       "       [1., 1., 1.]])"
      ]
     },
     "execution_count": 14,
     "metadata": {},
     "output_type": "execute_result"
    }
   ],
   "source": [
    "np.ones((2 , 3))\n",
    "# np.zeros(2 , 3)"
   ]
  },
  {
   "cell_type": "code",
   "execution_count": 15,
   "id": "95a11163",
   "metadata": {},
   "outputs": [
    {
     "data": {
      "text/plain": [
       "dtype('float64')"
      ]
     },
     "execution_count": 15,
     "metadata": {},
     "output_type": "execute_result"
    }
   ],
   "source": [
    "np.ones(4).dtype"
   ]
  },
  {
   "cell_type": "code",
   "execution_count": 16,
   "id": "7991e1df",
   "metadata": {},
   "outputs": [
    {
     "data": {
      "text/plain": [
       "dtype('float64')"
      ]
     },
     "execution_count": 16,
     "metadata": {},
     "output_type": "execute_result"
    }
   ],
   "source": [
    "np.empty(4).dtype"
   ]
  },
  {
   "cell_type": "code",
   "execution_count": 17,
   "id": "5174c9d5",
   "metadata": {},
   "outputs": [
    {
     "name": "stdout",
     "output_type": "stream",
     "text": [
      "[[2 3 4]\n",
      " [1 4 6]]\n"
     ]
    }
   ],
   "source": [
    "print(arr1)"
   ]
  },
  {
   "cell_type": "code",
   "execution_count": 18,
   "id": "dd1bd106",
   "metadata": {},
   "outputs": [
    {
     "name": "stdout",
     "output_type": "stream",
     "text": [
      "[[ 4  9 16]\n",
      " [ 1 16 36]]\n"
     ]
    }
   ],
   "source": [
    "print(arr1 * arr1)"
   ]
  },
  {
   "cell_type": "code",
   "execution_count": 19,
   "id": "1a912db6",
   "metadata": {},
   "outputs": [
    {
     "name": "stdout",
     "output_type": "stream",
     "text": [
      "[[    4    27   256]\n",
      " [    1   256 46656]]\n"
     ]
    }
   ],
   "source": [
    "print(arr1 ** arr1)"
   ]
  },
  {
   "cell_type": "code",
   "execution_count": 20,
   "id": "555e21bb",
   "metadata": {},
   "outputs": [
    {
     "name": "stdout",
     "output_type": "stream",
     "text": [
      "[[1.  1.5 2. ]\n",
      " [0.5 2.  3. ]]\n"
     ]
    }
   ],
   "source": [
    "print(arr1 / 2) # divide each value from array by 2"
   ]
  },
  {
   "cell_type": "markdown",
   "id": "0ce6c539",
   "metadata": {},
   "source": [
    "slicing and pointer basics"
   ]
  },
  {
   "cell_type": "code",
   "execution_count": 21,
   "id": "3e1bd4a8",
   "metadata": {},
   "outputs": [],
   "source": [
    "arr2 = np.array([10 , 20 , 30 , 40 , 50 , 60])"
   ]
  },
  {
   "cell_type": "code",
   "execution_count": 22,
   "id": "81d4b2a0",
   "metadata": {},
   "outputs": [],
   "source": [
    "arr = arr2[4:6] # slicing"
   ]
  },
  {
   "cell_type": "code",
   "execution_count": 23,
   "id": "a36a75cc",
   "metadata": {},
   "outputs": [
    {
     "name": "stdout",
     "output_type": "stream",
     "text": [
      "[50 60]\n"
     ]
    }
   ],
   "source": [
    "print(arr)"
   ]
  },
  {
   "cell_type": "code",
   "execution_count": 24,
   "id": "bae59690",
   "metadata": {},
   "outputs": [],
   "source": [
    "arr[0] = 100 # pointer"
   ]
  },
  {
   "cell_type": "code",
   "execution_count": 25,
   "id": "b5f09fbf",
   "metadata": {},
   "outputs": [
    {
     "name": "stdout",
     "output_type": "stream",
     "text": [
      "[ 10  20  30  40 100  60]\n"
     ]
    }
   ],
   "source": [
    "print(arr2)"
   ]
  },
  {
   "cell_type": "code",
   "execution_count": 26,
   "id": "c4f692a2",
   "metadata": {},
   "outputs": [],
   "source": [
    "# this occur because it use pointer\n",
    "# to avoid this we .copy() func"
   ]
  },
  {
   "cell_type": "code",
   "execution_count": 27,
   "id": "34a5fbbd",
   "metadata": {},
   "outputs": [],
   "source": [
    "arr = arr2[4:6].copy()"
   ]
  },
  {
   "cell_type": "code",
   "execution_count": 28,
   "id": "e1681fe3",
   "metadata": {},
   "outputs": [
    {
     "name": "stdout",
     "output_type": "stream",
     "text": [
      "[100  60]\n"
     ]
    }
   ],
   "source": [
    "print(arr)"
   ]
  },
  {
   "cell_type": "code",
   "execution_count": 29,
   "id": "cda0db5b",
   "metadata": {},
   "outputs": [],
   "source": [
    "arr[0] = 50"
   ]
  },
  {
   "cell_type": "code",
   "execution_count": 30,
   "id": "1516c95d",
   "metadata": {},
   "outputs": [
    {
     "name": "stdout",
     "output_type": "stream",
     "text": [
      "[50 60]\n"
     ]
    }
   ],
   "source": [
    "print(arr)"
   ]
  },
  {
   "cell_type": "code",
   "execution_count": 31,
   "id": "131d7c77",
   "metadata": {},
   "outputs": [
    {
     "name": "stdout",
     "output_type": "stream",
     "text": [
      "[ 10  20  30  40 100  60]\n"
     ]
    }
   ],
   "source": [
    "print(arr2)"
   ]
  },
  {
   "cell_type": "code",
   "execution_count": 32,
   "id": "368b5955",
   "metadata": {},
   "outputs": [
    {
     "data": {
      "text/plain": [
       "array([[2, 3, 4],\n",
       "       [1, 4, 6]])"
      ]
     },
     "execution_count": 32,
     "metadata": {},
     "output_type": "execute_result"
    }
   ],
   "source": [
    "arr1"
   ]
  },
  {
   "cell_type": "code",
   "execution_count": 33,
   "id": "99d66330",
   "metadata": {},
   "outputs": [
    {
     "name": "stdout",
     "output_type": "stream",
     "text": [
      "4\n"
     ]
    }
   ],
   "source": [
    "print(arr1[1][1])"
   ]
  },
  {
   "cell_type": "markdown",
   "id": "103e42e6",
   "metadata": {},
   "source": [
    "axis , sorting , transpose , etc "
   ]
  },
  {
   "cell_type": "code",
   "execution_count": 34,
   "id": "c92e6516",
   "metadata": {},
   "outputs": [
    {
     "name": "stdout",
     "output_type": "stream",
     "text": [
      "[ 9 11]\n"
     ]
    }
   ],
   "source": [
    "print(arr1.sum(axis = 1)) # rows sum"
   ]
  },
  {
   "cell_type": "code",
   "execution_count": 35,
   "id": "a7ff9a7a",
   "metadata": {},
   "outputs": [
    {
     "name": "stdout",
     "output_type": "stream",
     "text": [
      "[ 3  7 10]\n"
     ]
    }
   ],
   "source": [
    "print(arr1.sum(axis = 0)) # columns sum"
   ]
  },
  {
   "cell_type": "code",
   "execution_count": 36,
   "id": "b628b17e",
   "metadata": {},
   "outputs": [
    {
     "name": "stdout",
     "output_type": "stream",
     "text": [
      "[[2 3 4]\n",
      " [1 4 6]]\n"
     ]
    }
   ],
   "source": [
    "print(arr1)"
   ]
  },
  {
   "cell_type": "code",
   "execution_count": 37,
   "id": "d8e5af6d",
   "metadata": {},
   "outputs": [
    {
     "name": "stdout",
     "output_type": "stream",
     "text": [
      "[[2 1]\n",
      " [3 4]\n",
      " [4 6]]\n"
     ]
    }
   ],
   "source": [
    "print(arr1.transpose())"
   ]
  },
  {
   "cell_type": "code",
   "execution_count": 38,
   "id": "ebd8e1cd",
   "metadata": {},
   "outputs": [
    {
     "name": "stdout",
     "output_type": "stream",
     "text": [
      "[[29 38]\n",
      " [38 53]]\n"
     ]
    }
   ],
   "source": [
    "print(np.dot(arr1 , arr1.transpose()))"
   ]
  },
  {
   "cell_type": "code",
   "execution_count": 39,
   "id": "5604981a",
   "metadata": {},
   "outputs": [],
   "source": [
    "b = np.array([[3 , 2 , 1] , [6 , 5, 4]])"
   ]
  },
  {
   "cell_type": "code",
   "execution_count": 40,
   "id": "70c49ddc",
   "metadata": {},
   "outputs": [
    {
     "name": "stdout",
     "output_type": "stream",
     "text": [
      "[[ -5  10  -5]\n",
      " [-14  32 -19]]\n"
     ]
    }
   ],
   "source": [
    "print(np.cross(arr1 , b))"
   ]
  },
  {
   "cell_type": "code",
   "execution_count": 41,
   "id": "e0a6f001",
   "metadata": {},
   "outputs": [
    {
     "name": "stdout",
     "output_type": "stream",
     "text": [
      "[[3 2 1]\n",
      " [6 5 4]]\n"
     ]
    }
   ],
   "source": [
    "print(b)"
   ]
  },
  {
   "cell_type": "code",
   "execution_count": 42,
   "id": "de54aa92",
   "metadata": {},
   "outputs": [
    {
     "name": "stdout",
     "output_type": "stream",
     "text": [
      "[[1 2 3]\n",
      " [4 5 6]]\n"
     ]
    }
   ],
   "source": [
    "print(np.sort(b , axis = 1)) # sorting"
   ]
  },
  {
   "cell_type": "code",
   "execution_count": 43,
   "id": "1fbb3449",
   "metadata": {},
   "outputs": [
    {
     "name": "stdout",
     "output_type": "stream",
     "text": [
      "[[1 2 3]\n",
      " [4 5 6]]\n"
     ]
    }
   ],
   "source": [
    "print(np.sort(b , kind = \"mergedsort\")) # sort array by our own choice"
   ]
  },
  {
   "cell_type": "markdown",
   "id": "aa70d52d",
   "metadata": {},
   "source": [
    "argmin , argmax , argsort , etc"
   ]
  },
  {
   "cell_type": "code",
   "execution_count": 44,
   "id": "ae89872e",
   "metadata": {},
   "outputs": [],
   "source": [
    "a = np.array([1 , 2 , 3 , 4 , 5])"
   ]
  },
  {
   "cell_type": "code",
   "execution_count": 45,
   "id": "fdf5d008",
   "metadata": {},
   "outputs": [
    {
     "name": "stdout",
     "output_type": "stream",
     "text": [
      "(10,)\n"
     ]
    }
   ],
   "source": [
    "b = np.array([11 , 22 , 33 , 44 , 55 , 66 , 77 , 88 , 99 , 100])\n",
    "print(b.shape)"
   ]
  },
  {
   "cell_type": "code",
   "execution_count": 46,
   "id": "4fc4a040",
   "metadata": {},
   "outputs": [
    {
     "name": "stdout",
     "output_type": "stream",
     "text": [
      "[[ 11  22]\n",
      " [ 33  44]\n",
      " [ 55  66]\n",
      " [ 77  88]\n",
      " [ 99 100]]\n"
     ]
    }
   ],
   "source": [
    "print(b.reshape(5 , 2))"
   ]
  },
  {
   "cell_type": "code",
   "execution_count": 47,
   "id": "a5aa9679",
   "metadata": {},
   "outputs": [
    {
     "name": "stdout",
     "output_type": "stream",
     "text": [
      "[0 1 2 3 4 5 6 7 8 9]\n"
     ]
    }
   ],
   "source": [
    "print(np.argsort(b)) # gives index of smallest value"
   ]
  },
  {
   "cell_type": "code",
   "execution_count": 48,
   "id": "09e263c2",
   "metadata": {},
   "outputs": [
    {
     "name": "stdout",
     "output_type": "stream",
     "text": [
      "9\n"
     ]
    }
   ],
   "source": [
    "print(np.argmax(b))"
   ]
  },
  {
   "cell_type": "code",
   "execution_count": 49,
   "id": "fdef6875",
   "metadata": {},
   "outputs": [
    {
     "name": "stdout",
     "output_type": "stream",
     "text": [
      "0\n"
     ]
    }
   ],
   "source": [
    "print(np.argmin(b))"
   ]
  },
  {
   "cell_type": "code",
   "execution_count": null,
   "id": "434ccd50",
   "metadata": {},
   "outputs": [],
   "source": []
  }
 ],
 "metadata": {
  "kernelspec": {
   "display_name": "Python 3 (ipykernel)",
   "language": "python",
   "name": "python3"
  },
  "language_info": {
   "codemirror_mode": {
    "name": "ipython",
    "version": 3
   },
   "file_extension": ".py",
   "mimetype": "text/x-python",
   "name": "python",
   "nbconvert_exporter": "python",
   "pygments_lexer": "ipython3",
   "version": "3.11.5"
  }
 },
 "nbformat": 4,
 "nbformat_minor": 5
}
