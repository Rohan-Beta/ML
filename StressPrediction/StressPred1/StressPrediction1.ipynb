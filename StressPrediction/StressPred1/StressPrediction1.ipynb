{
 "cells": [
  {
   "cell_type": "code",
   "execution_count": 1,
   "id": "5fe281c7",
   "metadata": {},
   "outputs": [],
   "source": [
    "import pandas as pd"
   ]
  },
  {
   "cell_type": "code",
   "execution_count": 2,
   "id": "3adb49b5",
   "metadata": {},
   "outputs": [],
   "source": [
    "df = pd.read_csv(\"Stress.csv\")"
   ]
  },
  {
   "cell_type": "code",
   "execution_count": 3,
   "id": "eaecd164",
   "metadata": {},
   "outputs": [],
   "source": [
    "my_df = df[[\"label\" , \"confidence\" , \"social_timestamp\"]]"
   ]
  },
  {
   "cell_type": "code",
   "execution_count": 4,
   "id": "965a5100",
   "metadata": {},
   "outputs": [
    {
     "data": {
      "text/html": [
       "<div>\n",
       "<style scoped>\n",
       "    .dataframe tbody tr th:only-of-type {\n",
       "        vertical-align: middle;\n",
       "    }\n",
       "\n",
       "    .dataframe tbody tr th {\n",
       "        vertical-align: top;\n",
       "    }\n",
       "\n",
       "    .dataframe thead th {\n",
       "        text-align: right;\n",
       "    }\n",
       "</style>\n",
       "<table border=\"1\" class=\"dataframe\">\n",
       "  <thead>\n",
       "    <tr style=\"text-align: right;\">\n",
       "      <th></th>\n",
       "      <th>subreddit</th>\n",
       "      <th>post_id</th>\n",
       "      <th>sentence_range</th>\n",
       "      <th>text</th>\n",
       "      <th>label</th>\n",
       "      <th>confidence</th>\n",
       "      <th>social_timestamp</th>\n",
       "    </tr>\n",
       "  </thead>\n",
       "  <tbody>\n",
       "    <tr>\n",
       "      <th>0</th>\n",
       "      <td>ptsd</td>\n",
       "      <td>8601tu</td>\n",
       "      <td>(15, 20)</td>\n",
       "      <td>He said he had not felt that way before, sugge...</td>\n",
       "      <td>1</td>\n",
       "      <td>0.8</td>\n",
       "      <td>1521614353</td>\n",
       "    </tr>\n",
       "    <tr>\n",
       "      <th>1</th>\n",
       "      <td>assistance</td>\n",
       "      <td>8lbrx9</td>\n",
       "      <td>(0, 5)</td>\n",
       "      <td>Hey there r/assistance, Not sure if this is th...</td>\n",
       "      <td>0</td>\n",
       "      <td>1.0</td>\n",
       "      <td>1527009817</td>\n",
       "    </tr>\n",
       "    <tr>\n",
       "      <th>2</th>\n",
       "      <td>ptsd</td>\n",
       "      <td>9ch1zh</td>\n",
       "      <td>(15, 20)</td>\n",
       "      <td>My mom then hit me with the newspaper and it s...</td>\n",
       "      <td>1</td>\n",
       "      <td>0.8</td>\n",
       "      <td>1535935605</td>\n",
       "    </tr>\n",
       "    <tr>\n",
       "      <th>3</th>\n",
       "      <td>relationships</td>\n",
       "      <td>7rorpp</td>\n",
       "      <td>[5, 10]</td>\n",
       "      <td>until i met my new boyfriend, he is amazing, h...</td>\n",
       "      <td>1</td>\n",
       "      <td>0.6</td>\n",
       "      <td>1516429555</td>\n",
       "    </tr>\n",
       "    <tr>\n",
       "      <th>4</th>\n",
       "      <td>survivorsofabuse</td>\n",
       "      <td>9p2gbc</td>\n",
       "      <td>[0, 5]</td>\n",
       "      <td>October is Domestic Violence Awareness Month a...</td>\n",
       "      <td>1</td>\n",
       "      <td>0.8</td>\n",
       "      <td>1539809005</td>\n",
       "    </tr>\n",
       "  </tbody>\n",
       "</table>\n",
       "</div>"
      ],
      "text/plain": [
       "          subreddit post_id sentence_range  \\\n",
       "0              ptsd  8601tu       (15, 20)   \n",
       "1        assistance  8lbrx9         (0, 5)   \n",
       "2              ptsd  9ch1zh       (15, 20)   \n",
       "3     relationships  7rorpp        [5, 10]   \n",
       "4  survivorsofabuse  9p2gbc         [0, 5]   \n",
       "\n",
       "                                                text  label  confidence  \\\n",
       "0  He said he had not felt that way before, sugge...      1         0.8   \n",
       "1  Hey there r/assistance, Not sure if this is th...      0         1.0   \n",
       "2  My mom then hit me with the newspaper and it s...      1         0.8   \n",
       "3  until i met my new boyfriend, he is amazing, h...      1         0.6   \n",
       "4  October is Domestic Violence Awareness Month a...      1         0.8   \n",
       "\n",
       "   social_timestamp  \n",
       "0        1521614353  \n",
       "1        1527009817  \n",
       "2        1535935605  \n",
       "3        1516429555  \n",
       "4        1539809005  "
      ]
     },
     "execution_count": 4,
     "metadata": {},
     "output_type": "execute_result"
    }
   ],
   "source": [
    "df.head()"
   ]
  },
  {
   "cell_type": "code",
   "execution_count": 5,
   "id": "1f8d67d5",
   "metadata": {},
   "outputs": [
    {
     "data": {
      "text/html": [
       "<div>\n",
       "<style scoped>\n",
       "    .dataframe tbody tr th:only-of-type {\n",
       "        vertical-align: middle;\n",
       "    }\n",
       "\n",
       "    .dataframe tbody tr th {\n",
       "        vertical-align: top;\n",
       "    }\n",
       "\n",
       "    .dataframe thead th {\n",
       "        text-align: right;\n",
       "    }\n",
       "</style>\n",
       "<table border=\"1\" class=\"dataframe\">\n",
       "  <thead>\n",
       "    <tr style=\"text-align: right;\">\n",
       "      <th></th>\n",
       "      <th>subreddit</th>\n",
       "      <th>post_id</th>\n",
       "      <th>sentence_range</th>\n",
       "      <th>text</th>\n",
       "      <th>label</th>\n",
       "      <th>confidence</th>\n",
       "      <th>social_timestamp</th>\n",
       "    </tr>\n",
       "  </thead>\n",
       "  <tbody>\n",
       "    <tr>\n",
       "      <th>2833</th>\n",
       "      <td>relationships</td>\n",
       "      <td>7oee1t</td>\n",
       "      <td>[35, 40]</td>\n",
       "      <td>* Her, a week ago: Precious, how are you? (I i...</td>\n",
       "      <td>0</td>\n",
       "      <td>1.000000</td>\n",
       "      <td>1515187044</td>\n",
       "    </tr>\n",
       "    <tr>\n",
       "      <th>2834</th>\n",
       "      <td>ptsd</td>\n",
       "      <td>9p4ung</td>\n",
       "      <td>[20, 25]</td>\n",
       "      <td>I don't have the ability to cope with it anymo...</td>\n",
       "      <td>1</td>\n",
       "      <td>1.000000</td>\n",
       "      <td>1539827412</td>\n",
       "    </tr>\n",
       "    <tr>\n",
       "      <th>2835</th>\n",
       "      <td>anxiety</td>\n",
       "      <td>9nam6l</td>\n",
       "      <td>(5, 10)</td>\n",
       "      <td>In case this is the first time you're reading ...</td>\n",
       "      <td>0</td>\n",
       "      <td>1.000000</td>\n",
       "      <td>1539269312</td>\n",
       "    </tr>\n",
       "    <tr>\n",
       "      <th>2836</th>\n",
       "      <td>almosthomeless</td>\n",
       "      <td>5y53ya</td>\n",
       "      <td>[5, 10]</td>\n",
       "      <td>Do you find this normal? They have a good rela...</td>\n",
       "      <td>0</td>\n",
       "      <td>0.571429</td>\n",
       "      <td>1488938143</td>\n",
       "    </tr>\n",
       "    <tr>\n",
       "      <th>2837</th>\n",
       "      <td>ptsd</td>\n",
       "      <td>5y25cl</td>\n",
       "      <td>[0, 5]</td>\n",
       "      <td>I was talking to my mom this morning and she s...</td>\n",
       "      <td>1</td>\n",
       "      <td>0.571429</td>\n",
       "      <td>1488909516</td>\n",
       "    </tr>\n",
       "  </tbody>\n",
       "</table>\n",
       "</div>"
      ],
      "text/plain": [
       "           subreddit post_id sentence_range  \\\n",
       "2833   relationships  7oee1t       [35, 40]   \n",
       "2834            ptsd  9p4ung       [20, 25]   \n",
       "2835         anxiety  9nam6l        (5, 10)   \n",
       "2836  almosthomeless  5y53ya        [5, 10]   \n",
       "2837            ptsd  5y25cl         [0, 5]   \n",
       "\n",
       "                                                   text  label  confidence  \\\n",
       "2833  * Her, a week ago: Precious, how are you? (I i...      0    1.000000   \n",
       "2834  I don't have the ability to cope with it anymo...      1    1.000000   \n",
       "2835  In case this is the first time you're reading ...      0    1.000000   \n",
       "2836  Do you find this normal? They have a good rela...      0    0.571429   \n",
       "2837  I was talking to my mom this morning and she s...      1    0.571429   \n",
       "\n",
       "      social_timestamp  \n",
       "2833        1515187044  \n",
       "2834        1539827412  \n",
       "2835        1539269312  \n",
       "2836        1488938143  \n",
       "2837        1488909516  "
      ]
     },
     "execution_count": 5,
     "metadata": {},
     "output_type": "execute_result"
    }
   ],
   "source": [
    "df.tail()"
   ]
  },
  {
   "cell_type": "code",
   "execution_count": 6,
   "id": "f4d66aad",
   "metadata": {},
   "outputs": [
    {
     "name": "stdout",
     "output_type": "stream",
     "text": [
      "<class 'pandas.core.frame.DataFrame'>\n",
      "RangeIndex: 2838 entries, 0 to 2837\n",
      "Data columns (total 7 columns):\n",
      " #   Column            Non-Null Count  Dtype  \n",
      "---  ------            --------------  -----  \n",
      " 0   subreddit         2838 non-null   object \n",
      " 1   post_id           2838 non-null   object \n",
      " 2   sentence_range    2838 non-null   object \n",
      " 3   text              2838 non-null   object \n",
      " 4   label             2838 non-null   int64  \n",
      " 5   confidence        2838 non-null   float64\n",
      " 6   social_timestamp  2838 non-null   int64  \n",
      "dtypes: float64(1), int64(2), object(4)\n",
      "memory usage: 155.3+ KB\n"
     ]
    }
   ],
   "source": [
    "df.info()"
   ]
  },
  {
   "cell_type": "code",
   "execution_count": 7,
   "id": "9f70d396",
   "metadata": {},
   "outputs": [
    {
     "data": {
      "text/html": [
       "<div>\n",
       "<style scoped>\n",
       "    .dataframe tbody tr th:only-of-type {\n",
       "        vertical-align: middle;\n",
       "    }\n",
       "\n",
       "    .dataframe tbody tr th {\n",
       "        vertical-align: top;\n",
       "    }\n",
       "\n",
       "    .dataframe thead th {\n",
       "        text-align: right;\n",
       "    }\n",
       "</style>\n",
       "<table border=\"1\" class=\"dataframe\">\n",
       "  <thead>\n",
       "    <tr style=\"text-align: right;\">\n",
       "      <th></th>\n",
       "      <th>label</th>\n",
       "      <th>confidence</th>\n",
       "      <th>social_timestamp</th>\n",
       "    </tr>\n",
       "  </thead>\n",
       "  <tbody>\n",
       "    <tr>\n",
       "      <th>count</th>\n",
       "      <td>2838.000000</td>\n",
       "      <td>2838.000000</td>\n",
       "      <td>2.838000e+03</td>\n",
       "    </tr>\n",
       "    <tr>\n",
       "      <th>mean</th>\n",
       "      <td>0.524313</td>\n",
       "      <td>0.808972</td>\n",
       "      <td>1.518107e+09</td>\n",
       "    </tr>\n",
       "    <tr>\n",
       "      <th>std</th>\n",
       "      <td>0.499497</td>\n",
       "      <td>0.177038</td>\n",
       "      <td>1.552209e+07</td>\n",
       "    </tr>\n",
       "    <tr>\n",
       "      <th>min</th>\n",
       "      <td>0.000000</td>\n",
       "      <td>0.428571</td>\n",
       "      <td>1.483274e+09</td>\n",
       "    </tr>\n",
       "    <tr>\n",
       "      <th>25%</th>\n",
       "      <td>0.000000</td>\n",
       "      <td>0.600000</td>\n",
       "      <td>1.509698e+09</td>\n",
       "    </tr>\n",
       "    <tr>\n",
       "      <th>50%</th>\n",
       "      <td>1.000000</td>\n",
       "      <td>0.800000</td>\n",
       "      <td>1.517066e+09</td>\n",
       "    </tr>\n",
       "    <tr>\n",
       "      <th>75%</th>\n",
       "      <td>1.000000</td>\n",
       "      <td>1.000000</td>\n",
       "      <td>1.530898e+09</td>\n",
       "    </tr>\n",
       "    <tr>\n",
       "      <th>max</th>\n",
       "      <td>1.000000</td>\n",
       "      <td>1.000000</td>\n",
       "      <td>1.542592e+09</td>\n",
       "    </tr>\n",
       "  </tbody>\n",
       "</table>\n",
       "</div>"
      ],
      "text/plain": [
       "             label   confidence  social_timestamp\n",
       "count  2838.000000  2838.000000      2.838000e+03\n",
       "mean      0.524313     0.808972      1.518107e+09\n",
       "std       0.499497     0.177038      1.552209e+07\n",
       "min       0.000000     0.428571      1.483274e+09\n",
       "25%       0.000000     0.600000      1.509698e+09\n",
       "50%       1.000000     0.800000      1.517066e+09\n",
       "75%       1.000000     1.000000      1.530898e+09\n",
       "max       1.000000     1.000000      1.542592e+09"
      ]
     },
     "execution_count": 7,
     "metadata": {},
     "output_type": "execute_result"
    }
   ],
   "source": [
    "df.describe()"
   ]
  },
  {
   "cell_type": "code",
   "execution_count": 8,
   "id": "e1ba35b1",
   "metadata": {},
   "outputs": [],
   "source": [
    "from matplotlib import pyplot as plt"
   ]
  },
  {
   "cell_type": "code",
   "execution_count": 9,
   "id": "3836d656",
   "metadata": {},
   "outputs": [
    {
     "data": {
      "image/png": "[encoded data removed]",
      "text/plain": [
       "<Figure size 2000x1500 with 4 Axes>"
      ]
     },
     "metadata": {},
     "output_type": "display_data"
    }
   ],
   "source": [
    "df.hist(bins= 50 , figsize= (20 , 15))\n",
    "plt.show()"
   ]
  },
  {
   "cell_type": "markdown",
   "id": "e17df0e1",
   "metadata": {},
   "source": [
    "## split test data and train data"
   ]
  },
  {
   "cell_type": "code",
   "execution_count": 10,
   "id": "8ad0f9db",
   "metadata": {},
   "outputs": [],
   "source": [
    "from sklearn.model_selection import StratifiedShuffleSplit"
   ]
  },
  {
   "cell_type": "code",
   "execution_count": 11,
   "id": "43c37a0b",
   "metadata": {},
   "outputs": [],
   "source": [
    "# 0 and 1 in \"label\" should be equally divided in train and test data\n",
    "\n",
    "split = StratifiedShuffleSplit(n_splits= 1 , test_size= 0.2 , random_state= 42)\n",
    "\n",
    "for train_index , test_index in split.split(my_df , my_df[\"label\"]) :\n",
    "    \n",
    "    strat_train_set = my_df.loc[train_index]\n",
    "    strat_test_set = my_df.loc[test_index]"
   ]
  },
  {
   "cell_type": "code",
   "execution_count": 12,
   "id": "e137794b",
   "metadata": {},
   "outputs": [
    {
     "data": {
      "text/plain": [
       "label\n",
       "1    1190\n",
       "0    1080\n",
       "Name: count, dtype: int64"
      ]
     },
     "execution_count": 12,
     "metadata": {},
     "output_type": "execute_result"
    }
   ],
   "source": [
    "strat_train_set[\"label\"].value_counts()"
   ]
  },
  {
   "cell_type": "code",
   "execution_count": 13,
   "id": "a7113e27",
   "metadata": {},
   "outputs": [
    {
     "data": {
      "text/plain": [
       "label\n",
       "1    298\n",
       "0    270\n",
       "Name: count, dtype: int64"
      ]
     },
     "execution_count": 13,
     "metadata": {},
     "output_type": "execute_result"
    }
   ],
   "source": [
    "strat_test_set[\"label\"].value_counts()"
   ]
  },
  {
   "cell_type": "code",
   "execution_count": 14,
   "id": "79997636",
   "metadata": {},
   "outputs": [],
   "source": [
    "my_df = strat_train_set.copy()"
   ]
  },
  {
   "cell_type": "code",
   "execution_count": 15,
   "id": "237b29c3",
   "metadata": {},
   "outputs": [
    {
     "data": {
      "text/html": [
       "<div>\n",
       "<style scoped>\n",
       "    .dataframe tbody tr th:only-of-type {\n",
       "        vertical-align: middle;\n",
       "    }\n",
       "\n",
       "    .dataframe tbody tr th {\n",
       "        vertical-align: top;\n",
       "    }\n",
       "\n",
       "    .dataframe thead th {\n",
       "        text-align: right;\n",
       "    }\n",
       "</style>\n",
       "<table border=\"1\" class=\"dataframe\">\n",
       "  <thead>\n",
       "    <tr style=\"text-align: right;\">\n",
       "      <th></th>\n",
       "      <th>label</th>\n",
       "      <th>confidence</th>\n",
       "      <th>social_timestamp</th>\n",
       "    </tr>\n",
       "  </thead>\n",
       "  <tbody>\n",
       "    <tr>\n",
       "      <th>count</th>\n",
       "      <td>2270.000000</td>\n",
       "      <td>2270.000000</td>\n",
       "      <td>2.270000e+03</td>\n",
       "    </tr>\n",
       "    <tr>\n",
       "      <th>mean</th>\n",
       "      <td>0.524229</td>\n",
       "      <td>0.809125</td>\n",
       "      <td>1.518220e+09</td>\n",
       "    </tr>\n",
       "    <tr>\n",
       "      <th>std</th>\n",
       "      <td>0.499523</td>\n",
       "      <td>0.177613</td>\n",
       "      <td>1.543302e+07</td>\n",
       "    </tr>\n",
       "    <tr>\n",
       "      <th>min</th>\n",
       "      <td>0.000000</td>\n",
       "      <td>0.428571</td>\n",
       "      <td>1.483274e+09</td>\n",
       "    </tr>\n",
       "    <tr>\n",
       "      <th>25%</th>\n",
       "      <td>0.000000</td>\n",
       "      <td>0.600000</td>\n",
       "      <td>1.510211e+09</td>\n",
       "    </tr>\n",
       "    <tr>\n",
       "      <th>50%</th>\n",
       "      <td>1.000000</td>\n",
       "      <td>0.800000</td>\n",
       "      <td>1.517105e+09</td>\n",
       "    </tr>\n",
       "    <tr>\n",
       "      <th>75%</th>\n",
       "      <td>1.000000</td>\n",
       "      <td>1.000000</td>\n",
       "      <td>1.530898e+09</td>\n",
       "    </tr>\n",
       "    <tr>\n",
       "      <th>max</th>\n",
       "      <td>1.000000</td>\n",
       "      <td>1.000000</td>\n",
       "      <td>1.542583e+09</td>\n",
       "    </tr>\n",
       "  </tbody>\n",
       "</table>\n",
       "</div>"
      ],
      "text/plain": [
       "             label   confidence  social_timestamp\n",
       "count  2270.000000  2270.000000      2.270000e+03\n",
       "mean      0.524229     0.809125      1.518220e+09\n",
       "std       0.499523     0.177613      1.543302e+07\n",
       "min       0.000000     0.428571      1.483274e+09\n",
       "25%       0.000000     0.600000      1.510211e+09\n",
       "50%       1.000000     0.800000      1.517105e+09\n",
       "75%       1.000000     1.000000      1.530898e+09\n",
       "max       1.000000     1.000000      1.542583e+09"
      ]
     },
     "execution_count": 15,
     "metadata": {},
     "output_type": "execute_result"
    }
   ],
   "source": [
    "my_df.describe()"
   ]
  },
  {
   "cell_type": "markdown",
   "id": "8eda2806",
   "metadata": {},
   "source": [
    "## correlation"
   ]
  },
  {
   "cell_type": "code",
   "execution_count": 16,
   "id": "766631d5",
   "metadata": {
    "scrolled": true
   },
   "outputs": [
    {
     "data": {
      "text/plain": [
       "confidence          1.000000\n",
       "label               0.033344\n",
       "social_timestamp    0.030826\n",
       "Name: confidence, dtype: float64"
      ]
     },
     "execution_count": 16,
     "metadata": {},
     "output_type": "execute_result"
    }
   ],
   "source": [
    "corr_matrix = my_df.corr()\n",
    "\n",
    "corr_matrix[\"confidence\"].sort_values(ascending= False)"
   ]
  },
  {
   "cell_type": "code",
   "execution_count": 17,
   "id": "46b2b2ce",
   "metadata": {
    "scrolled": false
   },
   "outputs": [
    {
     "data": {
      "text/html": [
       "<div>\n",
       "<style scoped>\n",
       "    .dataframe tbody tr th:only-of-type {\n",
       "        vertical-align: middle;\n",
       "    }\n",
       "\n",
       "    .dataframe tbody tr th {\n",
       "        vertical-align: top;\n",
       "    }\n",
       "\n",
       "    .dataframe thead th {\n",
       "        text-align: right;\n",
       "    }\n",
       "</style>\n",
       "<table border=\"1\" class=\"dataframe\">\n",
       "  <thead>\n",
       "    <tr style=\"text-align: right;\">\n",
       "      <th></th>\n",
       "      <th>text</th>\n",
       "      <th>label</th>\n",
       "    </tr>\n",
       "  </thead>\n",
       "  <tbody>\n",
       "    <tr>\n",
       "      <th>0</th>\n",
       "      <td>He said he had not felt that way before, sugge...</td>\n",
       "      <td>1</td>\n",
       "    </tr>\n",
       "    <tr>\n",
       "      <th>1</th>\n",
       "      <td>Hey there r/assistance, Not sure if this is th...</td>\n",
       "      <td>0</td>\n",
       "    </tr>\n",
       "    <tr>\n",
       "      <th>2</th>\n",
       "      <td>My mom then hit me with the newspaper and it s...</td>\n",
       "      <td>1</td>\n",
       "    </tr>\n",
       "    <tr>\n",
       "      <th>3</th>\n",
       "      <td>until i met my new boyfriend, he is amazing, h...</td>\n",
       "      <td>1</td>\n",
       "    </tr>\n",
       "    <tr>\n",
       "      <th>4</th>\n",
       "      <td>October is Domestic Violence Awareness Month a...</td>\n",
       "      <td>1</td>\n",
       "    </tr>\n",
       "    <tr>\n",
       "      <th>...</th>\n",
       "      <td>...</td>\n",
       "      <td>...</td>\n",
       "    </tr>\n",
       "    <tr>\n",
       "      <th>2833</th>\n",
       "      <td>* Her, a week ago: Precious, how are you? (I i...</td>\n",
       "      <td>0</td>\n",
       "    </tr>\n",
       "    <tr>\n",
       "      <th>2834</th>\n",
       "      <td>I don't have the ability to cope with it anymo...</td>\n",
       "      <td>1</td>\n",
       "    </tr>\n",
       "    <tr>\n",
       "      <th>2835</th>\n",
       "      <td>In case this is the first time you're reading ...</td>\n",
       "      <td>0</td>\n",
       "    </tr>\n",
       "    <tr>\n",
       "      <th>2836</th>\n",
       "      <td>Do you find this normal? They have a good rela...</td>\n",
       "      <td>0</td>\n",
       "    </tr>\n",
       "    <tr>\n",
       "      <th>2837</th>\n",
       "      <td>I was talking to my mom this morning and she s...</td>\n",
       "      <td>1</td>\n",
       "    </tr>\n",
       "  </tbody>\n",
       "</table>\n",
       "<p>2838 rows × 2 columns</p>\n",
       "</div>"
      ],
      "text/plain": [
       "                                                   text  label\n",
       "0     He said he had not felt that way before, sugge...      1\n",
       "1     Hey there r/assistance, Not sure if this is th...      0\n",
       "2     My mom then hit me with the newspaper and it s...      1\n",
       "3     until i met my new boyfriend, he is amazing, h...      1\n",
       "4     October is Domestic Violence Awareness Month a...      1\n",
       "...                                                 ...    ...\n",
       "2833  * Her, a week ago: Precious, how are you? (I i...      0\n",
       "2834  I don't have the ability to cope with it anymo...      1\n",
       "2835  In case this is the first time you're reading ...      0\n",
       "2836  Do you find this normal? They have a good rela...      0\n",
       "2837  I was talking to my mom this morning and she s...      1\n",
       "\n",
       "[2838 rows x 2 columns]"
      ]
     },
     "execution_count": 17,
     "metadata": {},
     "output_type": "execute_result"
    }
   ],
   "source": [
    "df[[\"text\" , \"label\"]]"
   ]
  },
  {
   "cell_type": "code",
   "execution_count": 18,
   "id": "23cd0d58",
   "metadata": {},
   "outputs": [],
   "source": [
    "# for model\n",
    "\n",
    "my_df = strat_train_set.drop(\"confidence\" , axis = 1)\n",
    "my_df_labels = strat_train_set[\"confidence\"].copy()"
   ]
  },
  {
   "cell_type": "markdown",
   "id": "c36cf5da",
   "metadata": {},
   "source": [
    "## imputer"
   ]
  },
  {
   "cell_type": "code",
   "execution_count": 19,
   "id": "fe0249df",
   "metadata": {},
   "outputs": [],
   "source": [
    "from sklearn.impute import SimpleImputer"
   ]
  },
  {
   "cell_type": "code",
   "execution_count": 20,
   "id": "52e0311d",
   "metadata": {},
   "outputs": [
    {
     "data": {
      "text/html": [
       "<style>#sk-container-id-1 {color: black;}#sk-container-id-1 pre{padding: 0;}#sk-container-id-1 div.sk-toggleable {background-color: white;}#sk-container-id-1 label.sk-toggleable__label {cursor: pointer;display: block;width: 100%;margin-bottom: 0;padding: 0.3em;box-sizing: border-box;text-align: center;}#sk-container-id-1 label.sk-toggleable__label-arrow:before {content: \"▸\";float: left;margin-right: 0.25em;color: #696969;}#sk-container-id-1 label.sk-toggleable__label-arrow:hover:before {color: black;}#sk-container-id-1 div.sk-estimator:hover label.sk-toggleable__label-arrow:before {color: black;}#sk-container-id-1 div.sk-toggleable__content {max-height: 0;max-width: 0;overflow: hidden;text-align: left;background-color: #f0f8ff;}#sk-container-id-1 div.sk-toggleable__content pre {margin: 0.2em;color: black;border-radius: 0.25em;background-color: #f0f8ff;}#sk-container-id-1 input.sk-toggleable__control:checked~div.sk-toggleable__content {max-height: 200px;max-width: 100%;overflow: auto;}#sk-container-id-1 input.sk-toggleable__control:checked~label.sk-toggleable__label-arrow:before {content: \"▾\";}#sk-container-id-1 div.sk-estimator input.sk-toggleable__control:checked~label.sk-toggleable__label {background-color: #d4ebff;}#sk-container-id-1 div.sk-label input.sk-toggleable__control:checked~label.sk-toggleable__label {background-color: #d4ebff;}#sk-container-id-1 input.sk-hidden--visually {border: 0;clip: rect(1px 1px 1px 1px);clip: rect(1px, 1px, 1px, 1px);height: 1px;margin: -1px;overflow: hidden;padding: 0;position: absolute;width: 1px;}#sk-container-id-1 div.sk-estimator {font-family: monospace;background-color: #f0f8ff;border: 1px dotted black;border-radius: 0.25em;box-sizing: border-box;margin-bottom: 0.5em;}#sk-container-id-1 div.sk-estimator:hover {background-color: #d4ebff;}#sk-container-id-1 div.sk-parallel-item::after {content: \"\";width: 100%;border-bottom: 1px solid gray;flex-grow: 1;}#sk-container-id-1 div.sk-label:hover label.sk-toggleable__label {background-color: #d4ebff;}#sk-container-id-1 div.sk-serial::before {content: \"\";position: absolute;border-left: 1px solid gray;box-sizing: border-box;top: 0;bottom: 0;left: 50%;z-index: 0;}#sk-container-id-1 div.sk-serial {display: flex;flex-direction: column;align-items: center;background-color: white;padding-right: 0.2em;padding-left: 0.2em;position: relative;}#sk-container-id-1 div.sk-item {position: relative;z-index: 1;}#sk-container-id-1 div.sk-parallel {display: flex;align-items: stretch;justify-content: center;background-color: white;position: relative;}#sk-container-id-1 div.sk-item::before, #sk-container-id-1 div.sk-parallel-item::before {content: \"\";position: absolute;border-left: 1px solid gray;box-sizing: border-box;top: 0;bottom: 0;left: 50%;z-index: -1;}#sk-container-id-1 div.sk-parallel-item {display: flex;flex-direction: column;z-index: 1;position: relative;background-color: white;}#sk-container-id-1 div.sk-parallel-item:first-child::after {align-self: flex-end;width: 50%;}#sk-container-id-1 div.sk-parallel-item:last-child::after {align-self: flex-start;width: 50%;}#sk-container-id-1 div.sk-parallel-item:only-child::after {width: 0;}#sk-container-id-1 div.sk-dashed-wrapped {border: 1px dashed gray;margin: 0 0.4em 0.5em 0.4em;box-sizing: border-box;padding-bottom: 0.4em;background-color: white;}#sk-container-id-1 div.sk-label label {font-family: monospace;font-weight: bold;display: inline-block;line-height: 1.2em;}#sk-container-id-1 div.sk-label-container {text-align: center;}#sk-container-id-1 div.sk-container {/* jupyter's `normalize.less` sets `[hidden] { display: none; }` but bootstrap.min.css set `[hidden] { display: none !important; }` so we also need the `!important` here to be able to override the default hidden behavior on the sphinx rendered scikit-learn.org. See: https://github.com/scikit-learn/scikit-learn/issues/21755 */display: inline-block !important;position: relative;}#sk-container-id-1 div.sk-text-repr-fallback {display: none;}</style><div id=\"sk-container-id-1\" class=\"sk-top-container\"><div class=\"sk-text-repr-fallback\"><pre>SimpleImputer(strategy=&#x27;median&#x27;)</pre><b>In a Jupyter environment, please rerun this cell to show the HTML representation or trust the notebook. <br />On GitHub, the HTML representation is unable to render, please try loading this page with nbviewer.org.</b></div><div class=\"sk-container\" hidden><div class=\"sk-item\"><div class=\"sk-estimator sk-toggleable\"><input class=\"sk-toggleable__control sk-hidden--visually\" id=\"sk-estimator-id-1\" type=\"checkbox\" checked><label for=\"sk-estimator-id-1\" class=\"sk-toggleable__label sk-toggleable__label-arrow\">SimpleImputer</label><div class=\"sk-toggleable__content\"><pre>SimpleImputer(strategy=&#x27;median&#x27;)</pre></div></div></div></div></div>"
      ],
      "text/plain": [
       "SimpleImputer(strategy='median')"
      ]
     },
     "execution_count": 20,
     "metadata": {},
     "output_type": "execute_result"
    }
   ],
   "source": [
    "imputer = SimpleImputer(strategy= \"median\")\n",
    "imputer.fit(my_df)"
   ]
  },
  {
   "cell_type": "code",
   "execution_count": 21,
   "id": "49e198d7",
   "metadata": {},
   "outputs": [
    {
     "data": {
      "text/plain": [
       "(2,)"
      ]
     },
     "execution_count": 21,
     "metadata": {},
     "output_type": "execute_result"
    }
   ],
   "source": [
    "imputer.statistics_.shape"
   ]
  },
  {
   "cell_type": "code",
   "execution_count": 22,
   "id": "85d4516d",
   "metadata": {},
   "outputs": [],
   "source": [
    "x = imputer.transform(my_df)"
   ]
  },
  {
   "cell_type": "code",
   "execution_count": 23,
   "id": "12c0b0aa",
   "metadata": {},
   "outputs": [],
   "source": [
    "my_df_tr = pd.DataFrame(x , columns= my_df.columns)"
   ]
  },
  {
   "cell_type": "code",
   "execution_count": 24,
   "id": "776589bb",
   "metadata": {},
   "outputs": [
    {
     "data": {
      "text/html": [
       "<div>\n",
       "<style scoped>\n",
       "    .dataframe tbody tr th:only-of-type {\n",
       "        vertical-align: middle;\n",
       "    }\n",
       "\n",
       "    .dataframe tbody tr th {\n",
       "        vertical-align: top;\n",
       "    }\n",
       "\n",
       "    .dataframe thead th {\n",
       "        text-align: right;\n",
       "    }\n",
       "</style>\n",
       "<table border=\"1\" class=\"dataframe\">\n",
       "  <thead>\n",
       "    <tr style=\"text-align: right;\">\n",
       "      <th></th>\n",
       "      <th>label</th>\n",
       "      <th>social_timestamp</th>\n",
       "    </tr>\n",
       "  </thead>\n",
       "  <tbody>\n",
       "    <tr>\n",
       "      <th>count</th>\n",
       "      <td>2270.000000</td>\n",
       "      <td>2.270000e+03</td>\n",
       "    </tr>\n",
       "    <tr>\n",
       "      <th>mean</th>\n",
       "      <td>0.524229</td>\n",
       "      <td>1.518220e+09</td>\n",
       "    </tr>\n",
       "    <tr>\n",
       "      <th>std</th>\n",
       "      <td>0.499523</td>\n",
       "      <td>1.543302e+07</td>\n",
       "    </tr>\n",
       "    <tr>\n",
       "      <th>min</th>\n",
       "      <td>0.000000</td>\n",
       "      <td>1.483274e+09</td>\n",
       "    </tr>\n",
       "    <tr>\n",
       "      <th>25%</th>\n",
       "      <td>0.000000</td>\n",
       "      <td>1.510211e+09</td>\n",
       "    </tr>\n",
       "    <tr>\n",
       "      <th>50%</th>\n",
       "      <td>1.000000</td>\n",
       "      <td>1.517105e+09</td>\n",
       "    </tr>\n",
       "    <tr>\n",
       "      <th>75%</th>\n",
       "      <td>1.000000</td>\n",
       "      <td>1.530898e+09</td>\n",
       "    </tr>\n",
       "    <tr>\n",
       "      <th>max</th>\n",
       "      <td>1.000000</td>\n",
       "      <td>1.542583e+09</td>\n",
       "    </tr>\n",
       "  </tbody>\n",
       "</table>\n",
       "</div>"
      ],
      "text/plain": [
       "             label  social_timestamp\n",
       "count  2270.000000      2.270000e+03\n",
       "mean      0.524229      1.518220e+09\n",
       "std       0.499523      1.543302e+07\n",
       "min       0.000000      1.483274e+09\n",
       "25%       0.000000      1.510211e+09\n",
       "50%       1.000000      1.517105e+09\n",
       "75%       1.000000      1.530898e+09\n",
       "max       1.000000      1.542583e+09"
      ]
     },
     "execution_count": 24,
     "metadata": {},
     "output_type": "execute_result"
    }
   ],
   "source": [
    "my_df_tr.describe()"
   ]
  },
  {
   "cell_type": "markdown",
   "id": "5d4c9a8a",
   "metadata": {},
   "source": [
    "## pipeline"
   ]
  },
  {
   "cell_type": "code",
   "execution_count": 25,
   "id": "56104f06",
   "metadata": {},
   "outputs": [],
   "source": [
    "from sklearn.pipeline import Pipeline\n",
    "from sklearn.preprocessing import StandardScaler"
   ]
  },
  {
   "cell_type": "code",
   "execution_count": 26,
   "id": "da5b1a80",
   "metadata": {},
   "outputs": [],
   "source": [
    "my_pipeline = Pipeline([\n",
    "    (\"imputer\" , SimpleImputer(strategy= \"median\")),\n",
    "    (\"std_scaler\" , StandardScaler())\n",
    "])"
   ]
  },
  {
   "cell_type": "code",
   "execution_count": 27,
   "id": "ec06d837",
   "metadata": {},
   "outputs": [],
   "source": [
    "my_df_num_tr = my_pipeline.fit_transform(my_df)"
   ]
  },
  {
   "cell_type": "code",
   "execution_count": 28,
   "id": "9c07095d",
   "metadata": {},
   "outputs": [
    {
     "data": {
      "text/plain": [
       "array([[ 0.95266102,  1.03531018],\n",
       "       [ 0.95266102,  1.39335381],\n",
       "       [-1.04969131,  1.20349362],\n",
       "       ...,\n",
       "       [-1.04969131,  0.79962085],\n",
       "       [-1.04969131, -0.96748949],\n",
       "       [ 0.95266102,  1.48776406]])"
      ]
     },
     "execution_count": 28,
     "metadata": {},
     "output_type": "execute_result"
    }
   ],
   "source": [
    "my_df_num_tr"
   ]
  },
  {
   "cell_type": "markdown",
   "id": "88ef8700",
   "metadata": {},
   "source": [
    "## model"
   ]
  },
  {
   "cell_type": "code",
   "execution_count": 29,
   "id": "4578ff35",
   "metadata": {},
   "outputs": [],
   "source": [
    "from sklearn.linear_model import LinearRegression\n",
    "from sklearn.neighbors import KNeighborsRegressor\n",
    "from sklearn.ensemble import RandomForestRegressor"
   ]
  },
  {
   "cell_type": "code",
   "execution_count": 30,
   "id": "1a7f14cf",
   "metadata": {},
   "outputs": [],
   "source": [
    "import numpy as np"
   ]
  },
  {
   "cell_type": "code",
   "execution_count": 31,
   "id": "a10ab4d7",
   "metadata": {},
   "outputs": [],
   "source": [
    "model = RandomForestRegressor()"
   ]
  },
  {
   "cell_type": "code",
   "execution_count": 32,
   "id": "876f20df",
   "metadata": {},
   "outputs": [
    {
     "data": {
      "text/html": [
       "<style>#sk-container-id-2 {color: black;}#sk-container-id-2 pre{padding: 0;}#sk-container-id-2 div.sk-toggleable {background-color: white;}#sk-container-id-2 label.sk-toggleable__label {cursor: pointer;display: block;width: 100%;margin-bottom: 0;padding: 0.3em;box-sizing: border-box;text-align: center;}#sk-container-id-2 label.sk-toggleable__label-arrow:before {content: \"▸\";float: left;margin-right: 0.25em;color: #696969;}#sk-container-id-2 label.sk-toggleable__label-arrow:hover:before {color: black;}#sk-container-id-2 div.sk-estimator:hover label.sk-toggleable__label-arrow:before {color: black;}#sk-container-id-2 div.sk-toggleable__content {max-height: 0;max-width: 0;overflow: hidden;text-align: left;background-color: #f0f8ff;}#sk-container-id-2 div.sk-toggleable__content pre {margin: 0.2em;color: black;border-radius: 0.25em;background-color: #f0f8ff;}#sk-container-id-2 input.sk-toggleable__control:checked~div.sk-toggleable__content {max-height: 200px;max-width: 100%;overflow: auto;}#sk-container-id-2 input.sk-toggleable__control:checked~label.sk-toggleable__label-arrow:before {content: \"▾\";}#sk-container-id-2 div.sk-estimator input.sk-toggleable__control:checked~label.sk-toggleable__label {background-color: #d4ebff;}#sk-container-id-2 div.sk-label input.sk-toggleable__control:checked~label.sk-toggleable__label {background-color: #d4ebff;}#sk-container-id-2 input.sk-hidden--visually {border: 0;clip: rect(1px 1px 1px 1px);clip: rect(1px, 1px, 1px, 1px);height: 1px;margin: -1px;overflow: hidden;padding: 0;position: absolute;width: 1px;}#sk-container-id-2 div.sk-estimator {font-family: monospace;background-color: #f0f8ff;border: 1px dotted black;border-radius: 0.25em;box-sizing: border-box;margin-bottom: 0.5em;}#sk-container-id-2 div.sk-estimator:hover {background-color: #d4ebff;}#sk-container-id-2 div.sk-parallel-item::after {content: \"\";width: 100%;border-bottom: 1px solid gray;flex-grow: 1;}#sk-container-id-2 div.sk-label:hover label.sk-toggleable__label {background-color: #d4ebff;}#sk-container-id-2 div.sk-serial::before {content: \"\";position: absolute;border-left: 1px solid gray;box-sizing: border-box;top: 0;bottom: 0;left: 50%;z-index: 0;}#sk-container-id-2 div.sk-serial {display: flex;flex-direction: column;align-items: center;background-color: white;padding-right: 0.2em;padding-left: 0.2em;position: relative;}#sk-container-id-2 div.sk-item {position: relative;z-index: 1;}#sk-container-id-2 div.sk-parallel {display: flex;align-items: stretch;justify-content: center;background-color: white;position: relative;}#sk-container-id-2 div.sk-item::before, #sk-container-id-2 div.sk-parallel-item::before {content: \"\";position: absolute;border-left: 1px solid gray;box-sizing: border-box;top: 0;bottom: 0;left: 50%;z-index: -1;}#sk-container-id-2 div.sk-parallel-item {display: flex;flex-direction: column;z-index: 1;position: relative;background-color: white;}#sk-container-id-2 div.sk-parallel-item:first-child::after {align-self: flex-end;width: 50%;}#sk-container-id-2 div.sk-parallel-item:last-child::after {align-self: flex-start;width: 50%;}#sk-container-id-2 div.sk-parallel-item:only-child::after {width: 0;}#sk-container-id-2 div.sk-dashed-wrapped {border: 1px dashed gray;margin: 0 0.4em 0.5em 0.4em;box-sizing: border-box;padding-bottom: 0.4em;background-color: white;}#sk-container-id-2 div.sk-label label {font-family: monospace;font-weight: bold;display: inline-block;line-height: 1.2em;}#sk-container-id-2 div.sk-label-container {text-align: center;}#sk-container-id-2 div.sk-container {/* jupyter's `normalize.less` sets `[hidden] { display: none; }` but bootstrap.min.css set `[hidden] { display: none !important; }` so we also need the `!important` here to be able to override the default hidden behavior on the sphinx rendered scikit-learn.org. See: https://github.com/scikit-learn/scikit-learn/issues/21755 */display: inline-block !important;position: relative;}#sk-container-id-2 div.sk-text-repr-fallback {display: none;}</style><div id=\"sk-container-id-2\" class=\"sk-top-container\"><div class=\"sk-text-repr-fallback\"><pre>RandomForestRegressor()</pre><b>In a Jupyter environment, please rerun this cell to show the HTML representation or trust the notebook. <br />On GitHub, the HTML representation is unable to render, please try loading this page with nbviewer.org.</b></div><div class=\"sk-container\" hidden><div class=\"sk-item\"><div class=\"sk-estimator sk-toggleable\"><input class=\"sk-toggleable__control sk-hidden--visually\" id=\"sk-estimator-id-2\" type=\"checkbox\" checked><label for=\"sk-estimator-id-2\" class=\"sk-toggleable__label sk-toggleable__label-arrow\">RandomForestRegressor</label><div class=\"sk-toggleable__content\"><pre>RandomForestRegressor()</pre></div></div></div></div></div>"
      ],
      "text/plain": [
       "RandomForestRegressor()"
      ]
     },
     "execution_count": 32,
     "metadata": {},
     "output_type": "execute_result"
    }
   ],
   "source": [
    "model.fit(my_df_num_tr , my_df_labels)"
   ]
  },
  {
   "cell_type": "code",
   "execution_count": 33,
   "id": "d740f13c",
   "metadata": {},
   "outputs": [],
   "source": [
    "# take some data to analyze\n",
    "\n",
    "some_data = my_df.iloc[:6]\n",
    "some_labels = my_df_labels.iloc[:6]"
   ]
  },
  {
   "cell_type": "code",
   "execution_count": 34,
   "id": "f8a14628",
   "metadata": {},
   "outputs": [],
   "source": [
    "prepared_data = my_pipeline.transform(some_data)"
   ]
  },
  {
   "cell_type": "code",
   "execution_count": 35,
   "id": "f35161c5",
   "metadata": {},
   "outputs": [
    {
     "name": "stdout",
     "output_type": "stream",
     "text": [
      "[0.68804762 0.94       0.806      0.79691735 0.684      0.75153175]\n"
     ]
    }
   ],
   "source": [
    "print(model.predict(prepared_data))"
   ]
  },
  {
   "cell_type": "code",
   "execution_count": 36,
   "id": "37bbd492",
   "metadata": {},
   "outputs": [
    {
     "name": "stdout",
     "output_type": "stream",
     "text": [
      "[0.6        1.         0.8        0.8        0.6        0.83333333]\n"
     ]
    }
   ],
   "source": [
    "print(np.array(some_labels))"
   ]
  },
  {
   "cell_type": "code",
   "execution_count": 37,
   "id": "17a00526",
   "metadata": {},
   "outputs": [],
   "source": [
    "# take full data after analyzing\n",
    "\n",
    "some_data = my_df\n",
    "some_labels = my_df_labels"
   ]
  },
  {
   "cell_type": "code",
   "execution_count": 38,
   "id": "f71e8cbb",
   "metadata": {},
   "outputs": [],
   "source": [
    "prepared_data = my_pipeline.transform(some_data)"
   ]
  },
  {
   "cell_type": "markdown",
   "id": "9471668e",
   "metadata": {},
   "source": [
    "## evaluating the model"
   ]
  },
  {
   "cell_type": "code",
   "execution_count": 39,
   "id": "daaf097b",
   "metadata": {},
   "outputs": [],
   "source": [
    "from sklearn.metrics import mean_squared_error"
   ]
  },
  {
   "cell_type": "code",
   "execution_count": 40,
   "id": "cee13744",
   "metadata": {},
   "outputs": [],
   "source": [
    "my_df_pred = model.predict(my_df_num_tr)"
   ]
  },
  {
   "cell_type": "code",
   "execution_count": 41,
   "id": "deb949ab",
   "metadata": {},
   "outputs": [],
   "source": [
    "mse = mean_squared_error(my_df_labels , my_df_pred)\n",
    "rmse = np.sqrt(mse)"
   ]
  },
  {
   "cell_type": "code",
   "execution_count": 42,
   "id": "84d9f381",
   "metadata": {},
   "outputs": [
    {
     "name": "stdout",
     "output_type": "stream",
     "text": [
      "0.08629393617137852\n"
     ]
    }
   ],
   "source": [
    "print(rmse)"
   ]
  },
  {
   "cell_type": "markdown",
   "id": "c133aa91",
   "metadata": {},
   "source": [
    "## cross validation"
   ]
  },
  {
   "cell_type": "code",
   "execution_count": 43,
   "id": "66eb1744",
   "metadata": {},
   "outputs": [],
   "source": [
    "from sklearn.model_selection import cross_val_score"
   ]
  },
  {
   "cell_type": "code",
   "execution_count": 44,
   "id": "ae249c9a",
   "metadata": {},
   "outputs": [],
   "source": [
    "scores = cross_val_score(model , my_df_num_tr , my_df_labels , scoring= \"neg_mean_squared_error\" , cv= 10)\n",
    "rmse_scores = np.sqrt(-scores)"
   ]
  },
  {
   "cell_type": "code",
   "execution_count": 45,
   "id": "149293db",
   "metadata": {},
   "outputs": [
    {
     "name": "stdout",
     "output_type": "stream",
     "text": [
      "[0.20532041 0.20731716 0.20921842 0.21247969 0.21878701 0.20175289\n",
      " 0.21283119 0.19319877 0.20326781 0.1941798 ]\n"
     ]
    }
   ],
   "source": [
    "print(rmse_scores)"
   ]
  },
  {
   "cell_type": "code",
   "execution_count": 46,
   "id": "fb1b47d2",
   "metadata": {},
   "outputs": [],
   "source": [
    "def print_score(scores) :\n",
    "    print(f\"Score: {scores}\")\n",
    "    print(f\"Mean : {scores.mean()}\")\n",
    "    print(f\"Standard Deviation: {scores.std()}\")"
   ]
  },
  {
   "cell_type": "code",
   "execution_count": 47,
   "id": "aefd55e8",
   "metadata": {},
   "outputs": [
    {
     "name": "stdout",
     "output_type": "stream",
     "text": [
      "Score: [0.20532041 0.20731716 0.20921842 0.21247969 0.21878701 0.20175289\n",
      " 0.21283119 0.19319877 0.20326781 0.1941798 ]\n",
      "Mean : 0.20583531581721976\n",
      "Standard Deviation: 0.007704117994490492\n"
     ]
    }
   ],
   "source": [
    "print_score(rmse_scores)"
   ]
  },
  {
   "cell_type": "markdown",
   "id": "aa682e32",
   "metadata": {},
   "source": [
    "## dump or save the model"
   ]
  },
  {
   "cell_type": "code",
   "execution_count": 48,
   "id": "16179196",
   "metadata": {},
   "outputs": [],
   "source": [
    "from joblib import dump , load"
   ]
  },
  {
   "cell_type": "code",
   "execution_count": 49,
   "id": "0110743f",
   "metadata": {},
   "outputs": [
    {
     "data": {
      "text/plain": [
       "['StressConfidence.joblib']"
      ]
     },
     "execution_count": 49,
     "metadata": {},
     "output_type": "execute_result"
    }
   ],
   "source": [
    "dump(model , \"StressConfidence.joblib\")"
   ]
  },
  {
   "cell_type": "markdown",
   "id": "496bfc4d",
   "metadata": {},
   "source": [
    "## testing the model on test data"
   ]
  },
  {
   "cell_type": "code",
   "execution_count": 50,
   "id": "e5b911da",
   "metadata": {},
   "outputs": [],
   "source": [
    "x_test = strat_test_set.drop(\"confidence\" , axis = 1)\n",
    "y_test = strat_test_set[\"confidence\"].copy()\n",
    "x_test_pred = my_pipeline.transform(x_test)"
   ]
  },
  {
   "cell_type": "code",
   "execution_count": 51,
   "id": "70bd6aaf",
   "metadata": {},
   "outputs": [],
   "source": [
    "final_pred = model.predict(x_test_pred)\n",
    "final_mse = mean_squared_error(y_test , final_pred)\n",
    "final_rmse = np.sqrt(final_mse)"
   ]
  },
  {
   "cell_type": "code",
   "execution_count": 52,
   "id": "80f2def6",
   "metadata": {},
   "outputs": [
    {
     "name": "stdout",
     "output_type": "stream",
     "text": [
      "0.2031637764999628\n"
     ]
    }
   ],
   "source": [
    "print(final_rmse)"
   ]
  },
  {
   "cell_type": "code",
   "execution_count": 53,
   "id": "e65cf933",
   "metadata": {},
   "outputs": [
    {
     "data": {
      "text/plain": [
       "array([ 0.95266102, -1.3536602 ])"
      ]
     },
     "execution_count": 53,
     "metadata": {},
     "output_type": "execute_result"
    }
   ],
   "source": [
    "prepared_data[6]"
   ]
  },
  {
   "cell_type": "markdown",
   "id": "af5c0278",
   "metadata": {},
   "source": [
    "## using the model"
   ]
  },
  {
   "cell_type": "code",
   "execution_count": 54,
   "id": "30fe2bf3",
   "metadata": {},
   "outputs": [],
   "source": [
    "from joblib import dump , load\n",
    "import numpy as np"
   ]
  },
  {
   "cell_type": "code",
   "execution_count": 55,
   "id": "5b307270",
   "metadata": {},
   "outputs": [],
   "source": [
    "my_model = load(\"StressConfidence.joblib\")"
   ]
  },
  {
   "cell_type": "code",
   "execution_count": 56,
   "id": "6650d1ba",
   "metadata": {},
   "outputs": [
    {
     "data": {
      "text/plain": [
       "array([0.92771429])"
      ]
     },
     "execution_count": 56,
     "metadata": {},
     "output_type": "execute_result"
    }
   ],
   "source": [
    "# predict the confidence based on lavel and social_timestamp\n",
    "features = np.array([[0.95266102, -1.3536602]])\n",
    "my_model.predict(features)"
   ]
  },
  {
   "cell_type": "code",
   "execution_count": 57,
   "id": "443cd861",
   "metadata": {},
   "outputs": [
    {
     "name": "stdout",
     "output_type": "stream",
     "text": [
      "so the confidence of particular feature is: [0.92771429]\n"
     ]
    }
   ],
   "source": [
    "print(f\"so the confidence of particular feature is: {my_model.predict(features)}\")"
   ]
  },
  {
   "cell_type": "code",
   "execution_count": null,
   "id": "baa12f79",
   "metadata": {},
   "outputs": [],
   "source": []
  }
 ],
 "metadata": {
  "kernelspec": {
   "display_name": "Python 3 (ipykernel)",
   "language": "python",
   "name": "python3"
  },
  "language_info": {
   "codemirror_mode": {
    "name": "ipython",
    "version": 3
   },
   "file_extension": ".py",
   "mimetype": "text/x-python",
   "name": "python",
   "nbconvert_exporter": "python",
   "pygments_lexer": "ipython3",
   "version": "3.11.5"
  }
 },
 "nbformat": 4,
 "nbformat_minor": 5
}
