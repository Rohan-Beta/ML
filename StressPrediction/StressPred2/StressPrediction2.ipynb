{
 "cells": [
  {
   "cell_type": "code",
   "execution_count": 1,
   "id": "2569f7bd",
   "metadata": {},
   "outputs": [],
   "source": [
    "import pandas as pd"
   ]
  },
  {
   "cell_type": "code",
   "execution_count": 2,
   "id": "11d877bf",
   "metadata": {},
   "outputs": [],
   "source": [
    "df = pd.read_csv(\"Stress.csv\")"
   ]
  },
  {
   "cell_type": "code",
   "execution_count": 3,
   "id": "b0a50125",
   "metadata": {},
   "outputs": [
    {
     "data": {
      "text/html": [
       "<div>\n",
       "<style scoped>\n",
       "    .dataframe tbody tr th:only-of-type {\n",
       "        vertical-align: middle;\n",
       "    }\n",
       "\n",
       "    .dataframe tbody tr th {\n",
       "        vertical-align: top;\n",
       "    }\n",
       "\n",
       "    .dataframe thead th {\n",
       "        text-align: right;\n",
       "    }\n",
       "</style>\n",
       "<table border=\"1\" class=\"dataframe\">\n",
       "  <thead>\n",
       "    <tr style=\"text-align: right;\">\n",
       "      <th></th>\n",
       "      <th>subreddit</th>\n",
       "      <th>post_id</th>\n",
       "      <th>sentence_range</th>\n",
       "      <th>text</th>\n",
       "      <th>label</th>\n",
       "      <th>confidence</th>\n",
       "      <th>social_timestamp</th>\n",
       "    </tr>\n",
       "  </thead>\n",
       "  <tbody>\n",
       "    <tr>\n",
       "      <th>0</th>\n",
       "      <td>ptsd</td>\n",
       "      <td>8601tu</td>\n",
       "      <td>(15, 20)</td>\n",
       "      <td>He said he had not felt that way before, sugge...</td>\n",
       "      <td>1</td>\n",
       "      <td>0.8</td>\n",
       "      <td>1521614353</td>\n",
       "    </tr>\n",
       "    <tr>\n",
       "      <th>1</th>\n",
       "      <td>assistance</td>\n",
       "      <td>8lbrx9</td>\n",
       "      <td>(0, 5)</td>\n",
       "      <td>Hey there r/assistance, Not sure if this is th...</td>\n",
       "      <td>0</td>\n",
       "      <td>1.0</td>\n",
       "      <td>1527009817</td>\n",
       "    </tr>\n",
       "    <tr>\n",
       "      <th>2</th>\n",
       "      <td>ptsd</td>\n",
       "      <td>9ch1zh</td>\n",
       "      <td>(15, 20)</td>\n",
       "      <td>My mom then hit me with the newspaper and it s...</td>\n",
       "      <td>1</td>\n",
       "      <td>0.8</td>\n",
       "      <td>1535935605</td>\n",
       "    </tr>\n",
       "    <tr>\n",
       "      <th>3</th>\n",
       "      <td>relationships</td>\n",
       "      <td>7rorpp</td>\n",
       "      <td>[5, 10]</td>\n",
       "      <td>until i met my new boyfriend, he is amazing, h...</td>\n",
       "      <td>1</td>\n",
       "      <td>0.6</td>\n",
       "      <td>1516429555</td>\n",
       "    </tr>\n",
       "    <tr>\n",
       "      <th>4</th>\n",
       "      <td>survivorsofabuse</td>\n",
       "      <td>9p2gbc</td>\n",
       "      <td>[0, 5]</td>\n",
       "      <td>October is Domestic Violence Awareness Month a...</td>\n",
       "      <td>1</td>\n",
       "      <td>0.8</td>\n",
       "      <td>1539809005</td>\n",
       "    </tr>\n",
       "  </tbody>\n",
       "</table>\n",
       "</div>"
      ],
      "text/plain": [
       "          subreddit post_id sentence_range  \\\n",
       "0              ptsd  8601tu       (15, 20)   \n",
       "1        assistance  8lbrx9         (0, 5)   \n",
       "2              ptsd  9ch1zh       (15, 20)   \n",
       "3     relationships  7rorpp        [5, 10]   \n",
       "4  survivorsofabuse  9p2gbc         [0, 5]   \n",
       "\n",
       "                                                text  label  confidence  \\\n",
       "0  He said he had not felt that way before, sugge...      1         0.8   \n",
       "1  Hey there r/assistance, Not sure if this is th...      0         1.0   \n",
       "2  My mom then hit me with the newspaper and it s...      1         0.8   \n",
       "3  until i met my new boyfriend, he is amazing, h...      1         0.6   \n",
       "4  October is Domestic Violence Awareness Month a...      1         0.8   \n",
       "\n",
       "   social_timestamp  \n",
       "0        1521614353  \n",
       "1        1527009817  \n",
       "2        1535935605  \n",
       "3        1516429555  \n",
       "4        1539809005  "
      ]
     },
     "execution_count": 3,
     "metadata": {},
     "output_type": "execute_result"
    }
   ],
   "source": [
    "df.head()"
   ]
  },
  {
   "cell_type": "markdown",
   "id": "adad1f72",
   "metadata": {},
   "source": [
    "## plot the percentage of stress and not stress"
   ]
  },
  {
   "cell_type": "code",
   "execution_count": 4,
   "id": "8ae5f3ed",
   "metadata": {},
   "outputs": [],
   "source": [
    "from matplotlib import pyplot as plt"
   ]
  },
  {
   "cell_type": "code",
   "execution_count": 5,
   "id": "a359bd7c",
   "metadata": {},
   "outputs": [
    {
     "data": {
      "image/png": "[encoded data removed]",
      "text/plain": [
       "<Figure size 1600x400 with 1 Axes>"
      ]
     },
     "metadata": {},
     "output_type": "display_data"
    }
   ],
   "source": [
    "bar_graph= (df[\"label\"].value_counts(normalize=True)*100).sort_values().plot(kind='barh',figsize=(16 , 4),title='Stress and Not Stress')\n",
    "for a in bar_graph.containers:\n",
    "    plt.bar_label(a,fmt='%.2f%%')\n",
    "plt.show()"
   ]
  },
  {
   "cell_type": "code",
   "execution_count": 6,
   "id": "9da6b92f",
   "metadata": {},
   "outputs": [
    {
     "data": {
      "text/plain": [
       "label\n",
       "1    1488\n",
       "0    1350\n",
       "Name: count, dtype: int64"
      ]
     },
     "execution_count": 6,
     "metadata": {},
     "output_type": "execute_result"
    }
   ],
   "source": [
    "df[\"label\"].value_counts()"
   ]
  },
  {
   "cell_type": "markdown",
   "id": "59542362",
   "metadata": {},
   "source": [
    "# clean the data"
   ]
  },
  {
   "cell_type": "code",
   "execution_count": 7,
   "id": "ed7aeb1a",
   "metadata": {},
   "outputs": [],
   "source": [
    "def show(data):\n",
    "    for index , content in enumerate(data) :\n",
    "        \n",
    "        if(index <= 5) :\n",
    "            print(content)\n",
    "        else :\n",
    "            break"
   ]
  },
  {
   "cell_type": "markdown",
   "id": "d8f9ddbd",
   "metadata": {},
   "source": [
    "## 1.clean the text"
   ]
  },
  {
   "cell_type": "code",
   "execution_count": 8,
   "id": "4ab89cb9",
   "metadata": {},
   "outputs": [],
   "source": [
    "import re\n",
    "import string"
   ]
  },
  {
   "cell_type": "code",
   "execution_count": 9,
   "id": "dd4ec8d1",
   "metadata": {},
   "outputs": [],
   "source": [
    "def wordopt(text) :\n",
    "    \n",
    "    text = text.lower()\n",
    "    text = re.sub('\\[.*?\\]', '', text)\n",
    "    text = re.sub(\"\\\\W\",\" \",text) \n",
    "    text = re.sub('https?://\\S+|www\\.\\S+', '', text)\n",
    "    \n",
    "    text = re.sub('<.*?>+', '', text)\n",
    "    text = re.sub('[%s]' % re.escape(string.punctuation), '', text)\n",
    "    text = re.sub('\\n', '', text)\n",
    "    text = re.sub('\\w*\\d\\w*', '', text)\n",
    "    \n",
    "    return text"
   ]
  },
  {
   "cell_type": "code",
   "execution_count": 10,
   "id": "43567d04",
   "metadata": {},
   "outputs": [],
   "source": [
    "df[\"text\"] = df[\"text\"].apply(wordopt)"
   ]
  },
  {
   "cell_type": "code",
   "execution_count": 11,
   "id": "35b867b8",
   "metadata": {},
   "outputs": [
    {
     "name": "stdout",
     "output_type": "stream",
     "text": [
      "he said he had not felt that way before  suggeted i go rest and so   trigger ahead if youi re a hypocondriac like me  i decide to look up  feelings of doom  in hopes of maybe getting sucked into some rabbit hole of ludicrous conspiracy  a stupid  are you psychic  test or new age b s   something i could even laugh at down the road  no  i ended up reading that this sense of doom can be indicative of various health ailments  one of which i am prone to   so on top of my  doom  to my gloom  i am now f n worried about my heart  i do happen to have a physical in  hours \n",
      "hey there r assistance  not sure if this is the right place to post this   but here goes    i m currently a student intern at sandia national labs and working on a survey to help improve our marketing outreach efforts at the many schools we recruit at around the country  we re looking for current undergrad grad stem students so if you re a stem student or know stem students  i would greatly appreciate if you can help take or pass along this short survey  as a thank you  everyone who helps take the survey will be entered in to a drawing for chance to win one of three   amazon gcs \n",
      "my mom then hit me with the newspaper and it shocked me that she would do this  she knows i don t like play hitting  smacking  striking  hitting or violence of any sort on my person  do i send out this vibe asking for it from the universe  then yesterday i decided to take my friend to go help another  friend  move to a new place  while we were driving the friend we are moving strikes me on my shoulder  and i address it immediately because this is the  time i have told him not to do these things  then my other friend who is driving nearly gets into an collision with another car i think because he was high on marijuana and the friend we are moving in the backseat is like  you have to understand i was just trying to get your attention  you know the thing  year olds do to get peoples attention by smacking them  this guy is in his  s \n",
      "until i met my new boyfriend  he is amazing  he is kind  he is sweet  he is a good student  he likes the same things as me  my family likes him  and so on    but i dont feel that passion that rush i felt with my ex  the truth is that when i started going out with my boyfriend i secretly saw my ex a few times to see if i really didnt feel nothing for him  but it was disgusting  i didnt even want him to touch me  i feel bad with myself i didnt want him  but still  i was there  then i kinda realized i felt nothing love related for him and it was ok  he was hurt when he knew i was dating this boy and he even begged me to stay but of course not  but now the problem is that when im with my boyfriend i dont feel like i love him  like that thing you kinda have to feel with a new love  i just feel  ok  with him  and i catch myself thinking about my ex from time to time  remembering all the good things we had and it drives me crazy because i know that if i see him again i wont feel that way  that  love  that my mind makes me think stills there  and recently i found out that he has a girl and he is actually enjoying the experience and i got so mad and so hurt  i know i dont have any right to feel that way  i felt betrayed and i still feel that way  i gross myself out \n",
      "october is domestic violence awareness month and i am a domestic violence survivor who is still struggling  even after over four years  lately i have been feeling very angry  angry that my abusive ex received no real consequences for his actions  this man abused me in all manners  physically  sexually  emotionally  verbally  financially  etc  i was granted a restraining order against him  and it was renewed a year later  but i was unable to press criminal charges against him because i didn t have enough evidence to have a case \n",
      "i think he doesn t want to put in the effort for the relationship to work  and we re both so difficult that we have to work on our relationships  doesn t matter with whom  but he can t be without me either  what should i do  i m afraid this is gonna happen over and over again  because i m always forgiving him at some point  am i being strung along  tl dr  boyfriend  broke up with me  after on off for   years  i thought we just got it together and am devastated   don t know what to do  want to keep fighting but should i \n"
     ]
    }
   ],
   "source": [
    "show(df[\"text\"])"
   ]
  },
  {
   "cell_type": "markdown",
   "id": "7d894e70",
   "metadata": {},
   "source": [
    "## 2.tokenization"
   ]
  },
  {
   "cell_type": "code",
   "execution_count": 12,
   "id": "0645174c",
   "metadata": {},
   "outputs": [
    {
     "name": "stderr",
     "output_type": "stream",
     "text": [
      "[nltk_data] Downloading package punkt to\n",
      "[nltk_data]     C:\\Users\\rohit\\AppData\\Roaming\\nltk_data...\n",
      "[nltk_data]   Package punkt is already up-to-date!\n"
     ]
    },
    {
     "data": {
      "text/plain": [
       "True"
      ]
     },
     "execution_count": 12,
     "metadata": {},
     "output_type": "execute_result"
    }
   ],
   "source": [
    "import nltk\n",
    "nltk.download(\"punkt\")"
   ]
  },
  {
   "cell_type": "code",
   "execution_count": 13,
   "id": "2f6ddaad",
   "metadata": {},
   "outputs": [],
   "source": [
    "from nltk.tokenize import word_tokenize"
   ]
  },
  {
   "cell_type": "code",
   "execution_count": 14,
   "id": "44c09734",
   "metadata": {},
   "outputs": [],
   "source": [
    "df[\"text\"]= df[\"text\"].apply(word_tokenize)"
   ]
  },
  {
   "cell_type": "code",
   "execution_count": 15,
   "id": "75c48d3e",
   "metadata": {},
   "outputs": [
    {
     "name": "stdout",
     "output_type": "stream",
     "text": [
      "['he', 'said', 'he', 'had', 'not', 'felt', 'that', 'way', 'before', 'suggeted', 'i', 'go', 'rest', 'and', 'so', 'trigger', 'ahead', 'if', 'youi', 're', 'a', 'hypocondriac', 'like', 'me', 'i', 'decide', 'to', 'look', 'up', 'feelings', 'of', 'doom', 'in', 'hopes', 'of', 'maybe', 'getting', 'sucked', 'into', 'some', 'rabbit', 'hole', 'of', 'ludicrous', 'conspiracy', 'a', 'stupid', 'are', 'you', 'psychic', 'test', 'or', 'new', 'age', 'b', 's', 'something', 'i', 'could', 'even', 'laugh', 'at', 'down', 'the', 'road', 'no', 'i', 'ended', 'up', 'reading', 'that', 'this', 'sense', 'of', 'doom', 'can', 'be', 'indicative', 'of', 'various', 'health', 'ailments', 'one', 'of', 'which', 'i', 'am', 'prone', 'to', 'so', 'on', 'top', 'of', 'my', 'doom', 'to', 'my', 'gloom', 'i', 'am', 'now', 'f', 'n', 'worried', 'about', 'my', 'heart', 'i', 'do', 'happen', 'to', 'have', 'a', 'physical', 'in', 'hours']\n",
      "['hey', 'there', 'r', 'assistance', 'not', 'sure', 'if', 'this', 'is', 'the', 'right', 'place', 'to', 'post', 'this', 'but', 'here', 'goes', 'i', 'm', 'currently', 'a', 'student', 'intern', 'at', 'sandia', 'national', 'labs', 'and', 'working', 'on', 'a', 'survey', 'to', 'help', 'improve', 'our', 'marketing', 'outreach', 'efforts', 'at', 'the', 'many', 'schools', 'we', 'recruit', 'at', 'around', 'the', 'country', 'we', 're', 'looking', 'for', 'current', 'undergrad', 'grad', 'stem', 'students', 'so', 'if', 'you', 're', 'a', 'stem', 'student', 'or', 'know', 'stem', 'students', 'i', 'would', 'greatly', 'appreciate', 'if', 'you', 'can', 'help', 'take', 'or', 'pass', 'along', 'this', 'short', 'survey', 'as', 'a', 'thank', 'you', 'everyone', 'who', 'helps', 'take', 'the', 'survey', 'will', 'be', 'entered', 'in', 'to', 'a', 'drawing', 'for', 'chance', 'to', 'win', 'one', 'of', 'three', 'amazon', 'gcs']\n",
      "['my', 'mom', 'then', 'hit', 'me', 'with', 'the', 'newspaper', 'and', 'it', 'shocked', 'me', 'that', 'she', 'would', 'do', 'this', 'she', 'knows', 'i', 'don', 't', 'like', 'play', 'hitting', 'smacking', 'striking', 'hitting', 'or', 'violence', 'of', 'any', 'sort', 'on', 'my', 'person', 'do', 'i', 'send', 'out', 'this', 'vibe', 'asking', 'for', 'it', 'from', 'the', 'universe', 'then', 'yesterday', 'i', 'decided', 'to', 'take', 'my', 'friend', 'to', 'go', 'help', 'another', 'friend', 'move', 'to', 'a', 'new', 'place', 'while', 'we', 'were', 'driving', 'the', 'friend', 'we', 'are', 'moving', 'strikes', 'me', 'on', 'my', 'shoulder', 'and', 'i', 'address', 'it', 'immediately', 'because', 'this', 'is', 'the', 'time', 'i', 'have', 'told', 'him', 'not', 'to', 'do', 'these', 'things', 'then', 'my', 'other', 'friend', 'who', 'is', 'driving', 'nearly', 'gets', 'into', 'an', 'collision', 'with', 'another', 'car', 'i', 'think', 'because', 'he', 'was', 'high', 'on', 'marijuana', 'and', 'the', 'friend', 'we', 'are', 'moving', 'in', 'the', 'backseat', 'is', 'like', 'you', 'have', 'to', 'understand', 'i', 'was', 'just', 'trying', 'to', 'get', 'your', 'attention', 'you', 'know', 'the', 'thing', 'year', 'olds', 'do', 'to', 'get', 'peoples', 'attention', 'by', 'smacking', 'them', 'this', 'guy', 'is', 'in', 'his', 's']\n",
      "['until', 'i', 'met', 'my', 'new', 'boyfriend', 'he', 'is', 'amazing', 'he', 'is', 'kind', 'he', 'is', 'sweet', 'he', 'is', 'a', 'good', 'student', 'he', 'likes', 'the', 'same', 'things', 'as', 'me', 'my', 'family', 'likes', 'him', 'and', 'so', 'on', 'but', 'i', 'dont', 'feel', 'that', 'passion', 'that', 'rush', 'i', 'felt', 'with', 'my', 'ex', 'the', 'truth', 'is', 'that', 'when', 'i', 'started', 'going', 'out', 'with', 'my', 'boyfriend', 'i', 'secretly', 'saw', 'my', 'ex', 'a', 'few', 'times', 'to', 'see', 'if', 'i', 'really', 'didnt', 'feel', 'nothing', 'for', 'him', 'but', 'it', 'was', 'disgusting', 'i', 'didnt', 'even', 'want', 'him', 'to', 'touch', 'me', 'i', 'feel', 'bad', 'with', 'myself', 'i', 'didnt', 'want', 'him', 'but', 'still', 'i', 'was', 'there', 'then', 'i', 'kinda', 'realized', 'i', 'felt', 'nothing', 'love', 'related', 'for', 'him', 'and', 'it', 'was', 'ok', 'he', 'was', 'hurt', 'when', 'he', 'knew', 'i', 'was', 'dating', 'this', 'boy', 'and', 'he', 'even', 'begged', 'me', 'to', 'stay', 'but', 'of', 'course', 'not', 'but', 'now', 'the', 'problem', 'is', 'that', 'when', 'im', 'with', 'my', 'boyfriend', 'i', 'dont', 'feel', 'like', 'i', 'love', 'him', 'like', 'that', 'thing', 'you', 'kinda', 'have', 'to', 'feel', 'with', 'a', 'new', 'love', 'i', 'just', 'feel', 'ok', 'with', 'him', 'and', 'i', 'catch', 'myself', 'thinking', 'about', 'my', 'ex', 'from', 'time', 'to', 'time', 'remembering', 'all', 'the', 'good', 'things', 'we', 'had', 'and', 'it', 'drives', 'me', 'crazy', 'because', 'i', 'know', 'that', 'if', 'i', 'see', 'him', 'again', 'i', 'wont', 'feel', 'that', 'way', 'that', 'love', 'that', 'my', 'mind', 'makes', 'me', 'think', 'stills', 'there', 'and', 'recently', 'i', 'found', 'out', 'that', 'he', 'has', 'a', 'girl', 'and', 'he', 'is', 'actually', 'enjoying', 'the', 'experience', 'and', 'i', 'got', 'so', 'mad', 'and', 'so', 'hurt', 'i', 'know', 'i', 'dont', 'have', 'any', 'right', 'to', 'feel', 'that', 'way', 'i', 'felt', 'betrayed', 'and', 'i', 'still', 'feel', 'that', 'way', 'i', 'gross', 'myself', 'out']\n",
      "['october', 'is', 'domestic', 'violence', 'awareness', 'month', 'and', 'i', 'am', 'a', 'domestic', 'violence', 'survivor', 'who', 'is', 'still', 'struggling', 'even', 'after', 'over', 'four', 'years', 'lately', 'i', 'have', 'been', 'feeling', 'very', 'angry', 'angry', 'that', 'my', 'abusive', 'ex', 'received', 'no', 'real', 'consequences', 'for', 'his', 'actions', 'this', 'man', 'abused', 'me', 'in', 'all', 'manners', 'physically', 'sexually', 'emotionally', 'verbally', 'financially', 'etc', 'i', 'was', 'granted', 'a', 'restraining', 'order', 'against', 'him', 'and', 'it', 'was', 'renewed', 'a', 'year', 'later', 'but', 'i', 'was', 'unable', 'to', 'press', 'criminal', 'charges', 'against', 'him', 'because', 'i', 'didn', 't', 'have', 'enough', 'evidence', 'to', 'have', 'a', 'case']\n",
      "['i', 'think', 'he', 'doesn', 't', 'want', 'to', 'put', 'in', 'the', 'effort', 'for', 'the', 'relationship', 'to', 'work', 'and', 'we', 're', 'both', 'so', 'difficult', 'that', 'we', 'have', 'to', 'work', 'on', 'our', 'relationships', 'doesn', 't', 'matter', 'with', 'whom', 'but', 'he', 'can', 't', 'be', 'without', 'me', 'either', 'what', 'should', 'i', 'do', 'i', 'm', 'afraid', 'this', 'is', 'gon', 'na', 'happen', 'over', 'and', 'over', 'again', 'because', 'i', 'm', 'always', 'forgiving', 'him', 'at', 'some', 'point', 'am', 'i', 'being', 'strung', 'along', 'tl', 'dr', 'boyfriend', 'broke', 'up', 'with', 'me', 'after', 'on', 'off', 'for', 'years', 'i', 'thought', 'we', 'just', 'got', 'it', 'together', 'and', 'am', 'devastated', 'don', 't', 'know', 'what', 'to', 'do', 'want', 'to', 'keep', 'fighting', 'but', 'should', 'i']\n"
     ]
    }
   ],
   "source": [
    "show(df[\"text\"])"
   ]
  },
  {
   "cell_type": "markdown",
   "id": "1be3777c",
   "metadata": {},
   "source": [
    "## 3.Remove Stopwards"
   ]
  },
  {
   "cell_type": "code",
   "execution_count": 16,
   "id": "c636f2e2",
   "metadata": {},
   "outputs": [],
   "source": [
    "from nltk.corpus import stopwords"
   ]
  },
  {
   "cell_type": "code",
   "execution_count": 17,
   "id": "e2339e59",
   "metadata": {},
   "outputs": [],
   "source": [
    "def remove_stopwords(text) :\n",
    "    stpws = set(stopwords.words(\"english\"))\n",
    "    \n",
    "    filtered_text = [words for words in text if words not in stpws]\n",
    "    return filtered_text"
   ]
  },
  {
   "cell_type": "code",
   "execution_count": 18,
   "id": "2e5adda7",
   "metadata": {},
   "outputs": [],
   "source": [
    "df[\"text\"]= df[\"text\"].apply(remove_stopwords)"
   ]
  },
  {
   "cell_type": "code",
   "execution_count": 19,
   "id": "40d144fd",
   "metadata": {},
   "outputs": [
    {
     "name": "stdout",
     "output_type": "stream",
     "text": [
      "['said', 'felt', 'way', 'suggeted', 'go', 'rest', 'trigger', 'ahead', 'youi', 'hypocondriac', 'like', 'decide', 'look', 'feelings', 'doom', 'hopes', 'maybe', 'getting', 'sucked', 'rabbit', 'hole', 'ludicrous', 'conspiracy', 'stupid', 'psychic', 'test', 'new', 'age', 'b', 'something', 'could', 'even', 'laugh', 'road', 'ended', 'reading', 'sense', 'doom', 'indicative', 'various', 'health', 'ailments', 'one', 'prone', 'top', 'doom', 'gloom', 'f', 'n', 'worried', 'heart', 'happen', 'physical', 'hours']\n",
      "['hey', 'r', 'assistance', 'sure', 'right', 'place', 'post', 'goes', 'currently', 'student', 'intern', 'sandia', 'national', 'labs', 'working', 'survey', 'help', 'improve', 'marketing', 'outreach', 'efforts', 'many', 'schools', 'recruit', 'around', 'country', 'looking', 'current', 'undergrad', 'grad', 'stem', 'students', 'stem', 'student', 'know', 'stem', 'students', 'would', 'greatly', 'appreciate', 'help', 'take', 'pass', 'along', 'short', 'survey', 'thank', 'everyone', 'helps', 'take', 'survey', 'entered', 'drawing', 'chance', 'win', 'one', 'three', 'amazon', 'gcs']\n",
      "['mom', 'hit', 'newspaper', 'shocked', 'would', 'knows', 'like', 'play', 'hitting', 'smacking', 'striking', 'hitting', 'violence', 'sort', 'person', 'send', 'vibe', 'asking', 'universe', 'yesterday', 'decided', 'take', 'friend', 'go', 'help', 'another', 'friend', 'move', 'new', 'place', 'driving', 'friend', 'moving', 'strikes', 'shoulder', 'address', 'immediately', 'time', 'told', 'things', 'friend', 'driving', 'nearly', 'gets', 'collision', 'another', 'car', 'think', 'high', 'marijuana', 'friend', 'moving', 'backseat', 'like', 'understand', 'trying', 'get', 'attention', 'know', 'thing', 'year', 'olds', 'get', 'peoples', 'attention', 'smacking', 'guy']\n",
      "['met', 'new', 'boyfriend', 'amazing', 'kind', 'sweet', 'good', 'student', 'likes', 'things', 'family', 'likes', 'dont', 'feel', 'passion', 'rush', 'felt', 'ex', 'truth', 'started', 'going', 'boyfriend', 'secretly', 'saw', 'ex', 'times', 'see', 'really', 'didnt', 'feel', 'nothing', 'disgusting', 'didnt', 'even', 'want', 'touch', 'feel', 'bad', 'didnt', 'want', 'still', 'kinda', 'realized', 'felt', 'nothing', 'love', 'related', 'ok', 'hurt', 'knew', 'dating', 'boy', 'even', 'begged', 'stay', 'course', 'problem', 'im', 'boyfriend', 'dont', 'feel', 'like', 'love', 'like', 'thing', 'kinda', 'feel', 'new', 'love', 'feel', 'ok', 'catch', 'thinking', 'ex', 'time', 'time', 'remembering', 'good', 'things', 'drives', 'crazy', 'know', 'see', 'wont', 'feel', 'way', 'love', 'mind', 'makes', 'think', 'stills', 'recently', 'found', 'girl', 'actually', 'enjoying', 'experience', 'got', 'mad', 'hurt', 'know', 'dont', 'right', 'feel', 'way', 'felt', 'betrayed', 'still', 'feel', 'way', 'gross']\n",
      "['october', 'domestic', 'violence', 'awareness', 'month', 'domestic', 'violence', 'survivor', 'still', 'struggling', 'even', 'four', 'years', 'lately', 'feeling', 'angry', 'angry', 'abusive', 'ex', 'received', 'real', 'consequences', 'actions', 'man', 'abused', 'manners', 'physically', 'sexually', 'emotionally', 'verbally', 'financially', 'etc', 'granted', 'restraining', 'order', 'renewed', 'year', 'later', 'unable', 'press', 'criminal', 'charges', 'enough', 'evidence', 'case']\n",
      "['think', 'want', 'put', 'effort', 'relationship', 'work', 'difficult', 'work', 'relationships', 'matter', 'without', 'either', 'afraid', 'gon', 'na', 'happen', 'always', 'forgiving', 'point', 'strung', 'along', 'tl', 'dr', 'boyfriend', 'broke', 'years', 'thought', 'got', 'together', 'devastated', 'know', 'want', 'keep', 'fighting']\n"
     ]
    }
   ],
   "source": [
    "show(df[\"text\"])"
   ]
  },
  {
   "cell_type": "markdown",
   "id": "022f3cbb",
   "metadata": {},
   "source": [
    "## 4.Lemmatization"
   ]
  },
  {
   "cell_type": "code",
   "execution_count": 20,
   "id": "5b3e135c",
   "metadata": {},
   "outputs": [
    {
     "name": "stderr",
     "output_type": "stream",
     "text": [
      "[nltk_data] Downloading package wordnet to\n",
      "[nltk_data]     C:\\Users\\rohit\\AppData\\Roaming\\nltk_data...\n",
      "[nltk_data]   Package wordnet is already up-to-date!\n"
     ]
    },
    {
     "data": {
      "text/plain": [
       "True"
      ]
     },
     "execution_count": 20,
     "metadata": {},
     "output_type": "execute_result"
    }
   ],
   "source": [
    "nltk.download(\"wordnet\")"
   ]
  },
  {
   "cell_type": "code",
   "execution_count": 21,
   "id": "cab2f382",
   "metadata": {},
   "outputs": [],
   "source": [
    "from nltk.stem import WordNetLemmatizer"
   ]
  },
  {
   "cell_type": "code",
   "execution_count": 22,
   "id": "2f3acd7d",
   "metadata": {},
   "outputs": [],
   "source": [
    "def lemmatization_words(text) :\n",
    "    \n",
    "    lemmer= WordNetLemmatizer()\n",
    "    lemmatization_text= [lemmer.lemmatize(word , pos= \"v\") for word in text]\n",
    "    \n",
    "    return lemmatization_text"
   ]
  },
  {
   "cell_type": "code",
   "execution_count": 23,
   "id": "5e61dd16",
   "metadata": {},
   "outputs": [],
   "source": [
    "df[\"text\"] = df[\"text\"].apply(lemmatization_words)"
   ]
  },
  {
   "cell_type": "code",
   "execution_count": 24,
   "id": "60b1e797",
   "metadata": {},
   "outputs": [
    {
     "name": "stdout",
     "output_type": "stream",
     "text": [
      "['say', 'felt', 'way', 'suggeted', 'go', 'rest', 'trigger', 'ahead', 'youi', 'hypocondriac', 'like', 'decide', 'look', 'feel', 'doom', 'hop', 'maybe', 'get', 'suck', 'rabbit', 'hole', 'ludicrous', 'conspiracy', 'stupid', 'psychic', 'test', 'new', 'age', 'b', 'something', 'could', 'even', 'laugh', 'road', 'end', 'read', 'sense', 'doom', 'indicative', 'various', 'health', 'ailments', 'one', 'prone', 'top', 'doom', 'gloom', 'f', 'n', 'worry', 'heart', 'happen', 'physical', 'hours']\n",
      "['hey', 'r', 'assistance', 'sure', 'right', 'place', 'post', 'go', 'currently', 'student', 'intern', 'sandia', 'national', 'labs', 'work', 'survey', 'help', 'improve', 'market', 'outreach', 'efforts', 'many', 'school', 'recruit', 'around', 'country', 'look', 'current', 'undergrad', 'grad', 'stem', 'students', 'stem', 'student', 'know', 'stem', 'students', 'would', 'greatly', 'appreciate', 'help', 'take', 'pass', 'along', 'short', 'survey', 'thank', 'everyone', 'help', 'take', 'survey', 'enter', 'draw', 'chance', 'win', 'one', 'three', 'amazon', 'gcs']\n",
      "['mom', 'hit', 'newspaper', 'shock', 'would', 'know', 'like', 'play', 'hit', 'smack', 'strike', 'hit', 'violence', 'sort', 'person', 'send', 'vibe', 'ask', 'universe', 'yesterday', 'decide', 'take', 'friend', 'go', 'help', 'another', 'friend', 'move', 'new', 'place', 'drive', 'friend', 'move', 'strike', 'shoulder', 'address', 'immediately', 'time', 'tell', 'things', 'friend', 'drive', 'nearly', 'get', 'collision', 'another', 'car', 'think', 'high', 'marijuana', 'friend', 'move', 'backseat', 'like', 'understand', 'try', 'get', 'attention', 'know', 'thing', 'year', 'olds', 'get', 'people', 'attention', 'smack', 'guy']\n",
      "['meet', 'new', 'boyfriend', 'amaze', 'kind', 'sweet', 'good', 'student', 'like', 'things', 'family', 'like', 'dont', 'feel', 'passion', 'rush', 'felt', 'ex', 'truth', 'start', 'go', 'boyfriend', 'secretly', 'saw', 'ex', 'time', 'see', 'really', 'didnt', 'feel', 'nothing', 'disgust', 'didnt', 'even', 'want', 'touch', 'feel', 'bad', 'didnt', 'want', 'still', 'kinda', 'realize', 'felt', 'nothing', 'love', 'relate', 'ok', 'hurt', 'know', 'date', 'boy', 'even', 'beg', 'stay', 'course', 'problem', 'im', 'boyfriend', 'dont', 'feel', 'like', 'love', 'like', 'thing', 'kinda', 'feel', 'new', 'love', 'feel', 'ok', 'catch', 'think', 'ex', 'time', 'time', 'remember', 'good', 'things', 'drive', 'crazy', 'know', 'see', 'wont', 'feel', 'way', 'love', 'mind', 'make', 'think', 'still', 'recently', 'find', 'girl', 'actually', 'enjoy', 'experience', 'get', 'mad', 'hurt', 'know', 'dont', 'right', 'feel', 'way', 'felt', 'betray', 'still', 'feel', 'way', 'gross']\n",
      "['october', 'domestic', 'violence', 'awareness', 'month', 'domestic', 'violence', 'survivor', 'still', 'struggle', 'even', 'four', 'years', 'lately', 'feel', 'angry', 'angry', 'abusive', 'ex', 'receive', 'real', 'consequences', 'action', 'man', 'abuse', 'manners', 'physically', 'sexually', 'emotionally', 'verbally', 'financially', 'etc', 'grant', 'restrain', 'order', 'renew', 'year', 'later', 'unable', 'press', 'criminal', 'charge', 'enough', 'evidence', 'case']\n",
      "['think', 'want', 'put', 'effort', 'relationship', 'work', 'difficult', 'work', 'relationships', 'matter', 'without', 'either', 'afraid', 'gon', 'na', 'happen', 'always', 'forgive', 'point', 'string', 'along', 'tl', 'dr', 'boyfriend', 'break', 'years', 'think', 'get', 'together', 'devastate', 'know', 'want', 'keep', 'fight']\n"
     ]
    }
   ],
   "source": [
    "show(df[\"text\"])"
   ]
  },
  {
   "cell_type": "markdown",
   "id": "3e62f62c",
   "metadata": {},
   "source": [
    "## 5.create corpus"
   ]
  },
  {
   "cell_type": "code",
   "execution_count": 25,
   "id": "b2e392af",
   "metadata": {},
   "outputs": [],
   "source": [
    "df[\"text\"]= df[\"text\"].apply(lambda x : ' '.join([index for index in x]))"
   ]
  },
  {
   "cell_type": "code",
   "execution_count": 26,
   "id": "cc717d79",
   "metadata": {},
   "outputs": [
    {
     "name": "stdout",
     "output_type": "stream",
     "text": [
      "say felt way suggeted go rest trigger ahead youi hypocondriac like decide look feel doom hop maybe get suck rabbit hole ludicrous conspiracy stupid psychic test new age b something could even laugh road end read sense doom indicative various health ailments one prone top doom gloom f n worry heart happen physical hours\n",
      "hey r assistance sure right place post go currently student intern sandia national labs work survey help improve market outreach efforts many school recruit around country look current undergrad grad stem students stem student know stem students would greatly appreciate help take pass along short survey thank everyone help take survey enter draw chance win one three amazon gcs\n",
      "mom hit newspaper shock would know like play hit smack strike hit violence sort person send vibe ask universe yesterday decide take friend go help another friend move new place drive friend move strike shoulder address immediately time tell things friend drive nearly get collision another car think high marijuana friend move backseat like understand try get attention know thing year olds get people attention smack guy\n",
      "meet new boyfriend amaze kind sweet good student like things family like dont feel passion rush felt ex truth start go boyfriend secretly saw ex time see really didnt feel nothing disgust didnt even want touch feel bad didnt want still kinda realize felt nothing love relate ok hurt know date boy even beg stay course problem im boyfriend dont feel like love like thing kinda feel new love feel ok catch think ex time time remember good things drive crazy know see wont feel way love mind make think still recently find girl actually enjoy experience get mad hurt know dont right feel way felt betray still feel way gross\n",
      "october domestic violence awareness month domestic violence survivor still struggle even four years lately feel angry angry abusive ex receive real consequences action man abuse manners physically sexually emotionally verbally financially etc grant restrain order renew year later unable press criminal charge enough evidence case\n",
      "think want put effort relationship work difficult work relationships matter without either afraid gon na happen always forgive point string along tl dr boyfriend break years think get together devastate know want keep fight\n"
     ]
    }
   ],
   "source": [
    "show(df[\"text\"])"
   ]
  },
  {
   "cell_type": "code",
   "execution_count": 27,
   "id": "827844cd",
   "metadata": {},
   "outputs": [
    {
     "data": {
      "text/plain": [
       "dtype('O')"
      ]
     },
     "execution_count": 27,
     "metadata": {},
     "output_type": "execute_result"
    }
   ],
   "source": [
    "df[\"text\"].dtype"
   ]
  },
  {
   "cell_type": "markdown",
   "id": "4ce09acb",
   "metadata": {},
   "source": [
    "## split train and test data"
   ]
  },
  {
   "cell_type": "code",
   "execution_count": 28,
   "id": "fb425cd0",
   "metadata": {},
   "outputs": [],
   "source": [
    "from sklearn.model_selection import train_test_split"
   ]
  },
  {
   "cell_type": "code",
   "execution_count": 29,
   "id": "251772c5",
   "metadata": {},
   "outputs": [],
   "source": [
    "x = df[\"text\"]\n",
    "y = df[\"label\"]"
   ]
  },
  {
   "cell_type": "code",
   "execution_count": 30,
   "id": "9a01cea8",
   "metadata": {},
   "outputs": [],
   "source": [
    "x_train , x_test , y_train , y_test = train_test_split(x , y , test_size= 0.2 , random_state= 42)"
   ]
  },
  {
   "cell_type": "code",
   "execution_count": 31,
   "id": "451ab7a2",
   "metadata": {},
   "outputs": [],
   "source": [
    "# X_train,X_val,y_train,y_val=train_test_split(X,y,stratify=y,test_size=0.25)"
   ]
  },
  {
   "cell_type": "markdown",
   "id": "358321b1",
   "metadata": {},
   "source": [
    "## vectorization"
   ]
  },
  {
   "cell_type": "code",
   "execution_count": 32,
   "id": "60815514",
   "metadata": {},
   "outputs": [],
   "source": [
    "from sklearn.feature_extraction.text import TfidfVectorizer"
   ]
  },
  {
   "cell_type": "code",
   "execution_count": 33,
   "id": "6d0b8bf4",
   "metadata": {},
   "outputs": [],
   "source": [
    "vetor = TfidfVectorizer()"
   ]
  },
  {
   "cell_type": "code",
   "execution_count": 34,
   "id": "6e104060",
   "metadata": {},
   "outputs": [],
   "source": [
    "x_train = vetor.fit_transform(x_train)\n",
    "x_test = vetor.transform(x_test)"
   ]
  },
  {
   "cell_type": "code",
   "execution_count": 35,
   "id": "332dee51",
   "metadata": {},
   "outputs": [
    {
     "data": {
      "text/plain": [
       "dtype('float64')"
      ]
     },
     "execution_count": 35,
     "metadata": {},
     "output_type": "execute_result"
    }
   ],
   "source": [
    "x_train.dtype"
   ]
  },
  {
   "cell_type": "markdown",
   "id": "ba42c070",
   "metadata": {},
   "source": [
    "## model"
   ]
  },
  {
   "cell_type": "code",
   "execution_count": 36,
   "id": "269c7df0",
   "metadata": {},
   "outputs": [],
   "source": [
    "from sklearn.svm import SVC"
   ]
  },
  {
   "cell_type": "code",
   "execution_count": 37,
   "id": "2a353117",
   "metadata": {},
   "outputs": [],
   "source": [
    "model = SVC()"
   ]
  },
  {
   "cell_type": "code",
   "execution_count": 38,
   "id": "24973f74",
   "metadata": {},
   "outputs": [
    {
     "data": {
      "text/html": [
       "<style>#sk-container-id-1 {color: black;}#sk-container-id-1 pre{padding: 0;}#sk-container-id-1 div.sk-toggleable {background-color: white;}#sk-container-id-1 label.sk-toggleable__label {cursor: pointer;display: block;width: 100%;margin-bottom: 0;padding: 0.3em;box-sizing: border-box;text-align: center;}#sk-container-id-1 label.sk-toggleable__label-arrow:before {content: \"▸\";float: left;margin-right: 0.25em;color: #696969;}#sk-container-id-1 label.sk-toggleable__label-arrow:hover:before {color: black;}#sk-container-id-1 div.sk-estimator:hover label.sk-toggleable__label-arrow:before {color: black;}#sk-container-id-1 div.sk-toggleable__content {max-height: 0;max-width: 0;overflow: hidden;text-align: left;background-color: #f0f8ff;}#sk-container-id-1 div.sk-toggleable__content pre {margin: 0.2em;color: black;border-radius: 0.25em;background-color: #f0f8ff;}#sk-container-id-1 input.sk-toggleable__control:checked~div.sk-toggleable__content {max-height: 200px;max-width: 100%;overflow: auto;}#sk-container-id-1 input.sk-toggleable__control:checked~label.sk-toggleable__label-arrow:before {content: \"▾\";}#sk-container-id-1 div.sk-estimator input.sk-toggleable__control:checked~label.sk-toggleable__label {background-color: #d4ebff;}#sk-container-id-1 div.sk-label input.sk-toggleable__control:checked~label.sk-toggleable__label {background-color: #d4ebff;}#sk-container-id-1 input.sk-hidden--visually {border: 0;clip: rect(1px 1px 1px 1px);clip: rect(1px, 1px, 1px, 1px);height: 1px;margin: -1px;overflow: hidden;padding: 0;position: absolute;width: 1px;}#sk-container-id-1 div.sk-estimator {font-family: monospace;background-color: #f0f8ff;border: 1px dotted black;border-radius: 0.25em;box-sizing: border-box;margin-bottom: 0.5em;}#sk-container-id-1 div.sk-estimator:hover {background-color: #d4ebff;}#sk-container-id-1 div.sk-parallel-item::after {content: \"\";width: 100%;border-bottom: 1px solid gray;flex-grow: 1;}#sk-container-id-1 div.sk-label:hover label.sk-toggleable__label {background-color: #d4ebff;}#sk-container-id-1 div.sk-serial::before {content: \"\";position: absolute;border-left: 1px solid gray;box-sizing: border-box;top: 0;bottom: 0;left: 50%;z-index: 0;}#sk-container-id-1 div.sk-serial {display: flex;flex-direction: column;align-items: center;background-color: white;padding-right: 0.2em;padding-left: 0.2em;position: relative;}#sk-container-id-1 div.sk-item {position: relative;z-index: 1;}#sk-container-id-1 div.sk-parallel {display: flex;align-items: stretch;justify-content: center;background-color: white;position: relative;}#sk-container-id-1 div.sk-item::before, #sk-container-id-1 div.sk-parallel-item::before {content: \"\";position: absolute;border-left: 1px solid gray;box-sizing: border-box;top: 0;bottom: 0;left: 50%;z-index: -1;}#sk-container-id-1 div.sk-parallel-item {display: flex;flex-direction: column;z-index: 1;position: relative;background-color: white;}#sk-container-id-1 div.sk-parallel-item:first-child::after {align-self: flex-end;width: 50%;}#sk-container-id-1 div.sk-parallel-item:last-child::after {align-self: flex-start;width: 50%;}#sk-container-id-1 div.sk-parallel-item:only-child::after {width: 0;}#sk-container-id-1 div.sk-dashed-wrapped {border: 1px dashed gray;margin: 0 0.4em 0.5em 0.4em;box-sizing: border-box;padding-bottom: 0.4em;background-color: white;}#sk-container-id-1 div.sk-label label {font-family: monospace;font-weight: bold;display: inline-block;line-height: 1.2em;}#sk-container-id-1 div.sk-label-container {text-align: center;}#sk-container-id-1 div.sk-container {/* jupyter's `normalize.less` sets `[hidden] { display: none; }` but bootstrap.min.css set `[hidden] { display: none !important; }` so we also need the `!important` here to be able to override the default hidden behavior on the sphinx rendered scikit-learn.org. See: https://github.com/scikit-learn/scikit-learn/issues/21755 */display: inline-block !important;position: relative;}#sk-container-id-1 div.sk-text-repr-fallback {display: none;}</style><div id=\"sk-container-id-1\" class=\"sk-top-container\"><div class=\"sk-text-repr-fallback\"><pre>SVC()</pre><b>In a Jupyter environment, please rerun this cell to show the HTML representation or trust the notebook. <br />On GitHub, the HTML representation is unable to render, please try loading this page with nbviewer.org.</b></div><div class=\"sk-container\" hidden><div class=\"sk-item\"><div class=\"sk-estimator sk-toggleable\"><input class=\"sk-toggleable__control sk-hidden--visually\" id=\"sk-estimator-id-1\" type=\"checkbox\" checked><label for=\"sk-estimator-id-1\" class=\"sk-toggleable__label sk-toggleable__label-arrow\">SVC</label><div class=\"sk-toggleable__content\"><pre>SVC()</pre></div></div></div></div></div>"
      ],
      "text/plain": [
       "SVC()"
      ]
     },
     "execution_count": 38,
     "metadata": {},
     "output_type": "execute_result"
    }
   ],
   "source": [
    "model.fit(x_train , y_train)"
   ]
  },
  {
   "cell_type": "markdown",
   "id": "a40f05d3",
   "metadata": {},
   "source": [
    "## evaluating the model"
   ]
  },
  {
   "cell_type": "code",
   "execution_count": 39,
   "id": "4e68fc8b",
   "metadata": {},
   "outputs": [],
   "source": [
    "from sklearn.metrics import accuracy_score , mean_squared_error"
   ]
  },
  {
   "cell_type": "code",
   "execution_count": 40,
   "id": "8bef389a",
   "metadata": {},
   "outputs": [],
   "source": [
    "y_pred = model.predict(x_test)"
   ]
  },
  {
   "cell_type": "code",
   "execution_count": 41,
   "id": "71e328bc",
   "metadata": {},
   "outputs": [
    {
     "data": {
      "text/plain": [
       "0.727112676056338"
      ]
     },
     "execution_count": 41,
     "metadata": {},
     "output_type": "execute_result"
    }
   ],
   "source": [
    "accuracy_score(y_test , y_pred)"
   ]
  },
  {
   "cell_type": "code",
   "execution_count": 42,
   "id": "926f41af",
   "metadata": {},
   "outputs": [],
   "source": [
    "mse = mean_squared_error(y_test , y_pred)"
   ]
  },
  {
   "cell_type": "code",
   "execution_count": 43,
   "id": "6610cb0a",
   "metadata": {},
   "outputs": [],
   "source": [
    "import numpy as np"
   ]
  },
  {
   "cell_type": "code",
   "execution_count": 44,
   "id": "cc154e41",
   "metadata": {},
   "outputs": [],
   "source": [
    "rmse = np.sqrt(mse)"
   ]
  },
  {
   "cell_type": "code",
   "execution_count": 45,
   "id": "e540b285",
   "metadata": {},
   "outputs": [
    {
     "data": {
      "text/plain": [
       "0.5223861827648794"
      ]
     },
     "execution_count": 45,
     "metadata": {},
     "output_type": "execute_result"
    }
   ],
   "source": [
    "rmse"
   ]
  },
  {
   "cell_type": "markdown",
   "id": "985d49df",
   "metadata": {},
   "source": [
    "## save the model"
   ]
  },
  {
   "cell_type": "code",
   "execution_count": 46,
   "id": "9c59dee6",
   "metadata": {},
   "outputs": [],
   "source": [
    "from joblib import dump , load"
   ]
  },
  {
   "cell_type": "code",
   "execution_count": 47,
   "id": "eb435254",
   "metadata": {},
   "outputs": [
    {
     "data": {
      "text/plain": [
       "['Stress2.joblib']"
      ]
     },
     "execution_count": 47,
     "metadata": {},
     "output_type": "execute_result"
    }
   ],
   "source": [
    "dump(model , \"Stress2.joblib\")"
   ]
  },
  {
   "cell_type": "markdown",
   "id": "5ea43fe1",
   "metadata": {},
   "source": [
    "## test the model"
   ]
  },
  {
   "cell_type": "code",
   "execution_count": 48,
   "id": "ddec2cf4",
   "metadata": {},
   "outputs": [],
   "source": [
    "user = pd.DataFrame({\n",
    "    \"text\":['i am going to commit suicide', 'love to coding' , \"is AI dengerous for human\"]\n",
    "})"
   ]
  },
  {
   "cell_type": "code",
   "execution_count": 49,
   "id": "d5a42bf4",
   "metadata": {},
   "outputs": [],
   "source": [
    "user[\"text\"] = user[\"text\"].apply(word_tokenize)\n",
    "user[\"text\"] = user[\"text\"].apply(remove_stopwords)\n",
    "user[\"text\"] = user[\"text\"].apply(lemmatization_words)\n",
    "user[\"text\"] = user[\"text\"].apply(lambda x : ' '.join([index for index in x]))"
   ]
  },
  {
   "cell_type": "code",
   "execution_count": 50,
   "id": "489517f9",
   "metadata": {},
   "outputs": [
    {
     "data": {
      "text/html": [
       "<div>\n",
       "<style scoped>\n",
       "    .dataframe tbody tr th:only-of-type {\n",
       "        vertical-align: middle;\n",
       "    }\n",
       "\n",
       "    .dataframe tbody tr th {\n",
       "        vertical-align: top;\n",
       "    }\n",
       "\n",
       "    .dataframe thead th {\n",
       "        text-align: right;\n",
       "    }\n",
       "</style>\n",
       "<table border=\"1\" class=\"dataframe\">\n",
       "  <thead>\n",
       "    <tr style=\"text-align: right;\">\n",
       "      <th></th>\n",
       "      <th>text</th>\n",
       "    </tr>\n",
       "  </thead>\n",
       "  <tbody>\n",
       "    <tr>\n",
       "      <th>0</th>\n",
       "      <td>go commit suicide</td>\n",
       "    </tr>\n",
       "    <tr>\n",
       "      <th>1</th>\n",
       "      <td>love cod</td>\n",
       "    </tr>\n",
       "    <tr>\n",
       "      <th>2</th>\n",
       "      <td>AI dengerous human</td>\n",
       "    </tr>\n",
       "  </tbody>\n",
       "</table>\n",
       "</div>"
      ],
      "text/plain": [
       "                 text\n",
       "0   go commit suicide\n",
       "1            love cod\n",
       "2  AI dengerous human"
      ]
     },
     "execution_count": 50,
     "metadata": {},
     "output_type": "execute_result"
    }
   ],
   "source": [
    "user"
   ]
  },
  {
   "cell_type": "code",
   "execution_count": 51,
   "id": "70f38998",
   "metadata": {},
   "outputs": [],
   "source": [
    "x_test = vetor.transform(user[\"text\"])"
   ]
  },
  {
   "cell_type": "markdown",
   "id": "65d52370",
   "metadata": {},
   "source": [
    "## use the model"
   ]
  },
  {
   "cell_type": "code",
   "execution_count": 52,
   "id": "6c9b0a4d",
   "metadata": {},
   "outputs": [],
   "source": [
    "my_model = load(\"Stress2.joblib\")"
   ]
  },
  {
   "cell_type": "code",
   "execution_count": 55,
   "id": "29007c31",
   "metadata": {},
   "outputs": [],
   "source": [
    "user[\"predicted\"] = my_model.predict(x_test)\n",
    "user[\"predicted\"]= user[\"predicted\"].apply(lambda x : 'Stress' if x == 1 else 'Not Stress')"
   ]
  },
  {
   "cell_type": "code",
   "execution_count": 56,
   "id": "e794b8e6",
   "metadata": {},
   "outputs": [
    {
     "data": {
      "text/html": [
       "<div>\n",
       "<style scoped>\n",
       "    .dataframe tbody tr th:only-of-type {\n",
       "        vertical-align: middle;\n",
       "    }\n",
       "\n",
       "    .dataframe tbody tr th {\n",
       "        vertical-align: top;\n",
       "    }\n",
       "\n",
       "    .dataframe thead th {\n",
       "        text-align: right;\n",
       "    }\n",
       "</style>\n",
       "<table border=\"1\" class=\"dataframe\">\n",
       "  <thead>\n",
       "    <tr style=\"text-align: right;\">\n",
       "      <th></th>\n",
       "      <th>text</th>\n",
       "      <th>predicted</th>\n",
       "    </tr>\n",
       "  </thead>\n",
       "  <tbody>\n",
       "    <tr>\n",
       "      <th>0</th>\n",
       "      <td>go commit suicide</td>\n",
       "      <td>Stress</td>\n",
       "    </tr>\n",
       "    <tr>\n",
       "      <th>1</th>\n",
       "      <td>love cod</td>\n",
       "      <td>Not Stress</td>\n",
       "    </tr>\n",
       "    <tr>\n",
       "      <th>2</th>\n",
       "      <td>AI dengerous human</td>\n",
       "      <td>Not Stress</td>\n",
       "    </tr>\n",
       "  </tbody>\n",
       "</table>\n",
       "</div>"
      ],
      "text/plain": [
       "                 text   predicted\n",
       "0   go commit suicide      Stress\n",
       "1            love cod  Not Stress\n",
       "2  AI dengerous human  Not Stress"
      ]
     },
     "execution_count": 56,
     "metadata": {},
     "output_type": "execute_result"
    }
   ],
   "source": [
    "user"
   ]
  },
  {
   "cell_type": "code",
   "execution_count": null,
   "id": "0808c0a6",
   "metadata": {},
   "outputs": [],
   "source": []
  }
 ],
 "metadata": {
  "kernelspec": {
   "display_name": "Python 3 (ipykernel)",
   "language": "python",
   "name": "python3"
  },
  "language_info": {
   "codemirror_mode": {
    "name": "ipython",
    "version": 3
   },
   "file_extension": ".py",
   "mimetype": "text/x-python",
   "name": "python",
   "nbconvert_exporter": "python",
   "pygments_lexer": "ipython3",
   "version": "3.11.5"
  }
 },
 "nbformat": 4,
 "nbformat_minor": 5
}
